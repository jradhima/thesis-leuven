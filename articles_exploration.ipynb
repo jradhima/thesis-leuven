{
 "cells": [
  {
   "cell_type": "code",
   "execution_count": 1,
   "id": "71fb9cda",
   "metadata": {},
   "outputs": [],
   "source": [
    "import pandas as pd\n",
    "import sqlite3\n",
    "import re\n",
    "import matplotlib.pyplot as plt"
   ]
  },
  {
   "cell_type": "markdown",
   "id": "9221a3bf",
   "metadata": {},
   "source": [
    "## We will connect to the database and retrieve all articles that are not automated.\n",
    "### Each article-company pair will be a separate sample in our dataset"
   ]
  },
  {
   "cell_type": "code",
   "execution_count": 2,
   "id": "b0a3e24f",
   "metadata": {},
   "outputs": [],
   "source": [
    "con = sqlite3.connect('data.db')\n",
    "\n",
    "cur = con.cursor()\n",
    "\n",
    "query = \"\"\"SELECT * FROM article as a, company as c, article_company as a2c\n",
    "            WHERE text NOT LIKE '%Automated Insights%'\n",
    "            AND a.article_id = a2c.article_id\n",
    "            AND a2c.company_id = c.company_id;\"\"\"\n",
    "\n",
    "articles = [*cur.execute(query)]\n",
    "\n",
    "con.close()"
   ]
  },
  {
   "cell_type": "markdown",
   "id": "cd00f53d",
   "metadata": {},
   "source": [
    "### Time to take a look and see what we got"
   ]
  },
  {
   "cell_type": "code",
   "execution_count": 3,
   "id": "163946b7",
   "metadata": {},
   "outputs": [
    {
     "name": "stdout",
     "output_type": "stream",
     "text": [
      "Number of article-company pairs retrieved is: 431053\n"
     ]
    }
   ],
   "source": [
    "print(f\"Number of article-company pairs retrieved is: {len(articles)}\")"
   ]
  },
  {
   "cell_type": "code",
   "execution_count": 4,
   "id": "42a18058",
   "metadata": {},
   "outputs": [
    {
     "data": {
      "text/plain": [
       "(5142,\n",
       " \"Kansas City Southern stock jumps after Canadian Pacific submits 'superior' buyout bid\",\n",
       " 'Shares of Kansas City Southern rallied 6.8% in premarket trading Tuesday, after Canadian Pacific Railway Ltd. CP,\\n+0.41%\\nconfirmed that it has made what it believes is a \"superior\" buyout bid for the Missouri-based railroad operator. That follows a report in The Wall Street Journal that Canadian Pacific was planning a new higher bid. The bid comes about three months after the companies\\' merger agreement was terminated, resulting in a $700 million breakup fee, as Kansas City Southern (KSU) instead entered a merger deal with rival Canadian National Railway Co.\\'s CNR,\\n+0.52%\\nfollowing Canadian National\\'s \"superior\" bid. Under terms of Canadian Pacific\\'s new bid, KSU shareholders would receive 2.884 CP shares and $90 in cash for each KSU share they own. Based on Monday\\'s stock closing prices, that values KSU shares at $299.70 each. Meanwhile, the terms of the CN-KSU merger deal would value KSU shares at $314.38 each based on Monday\\'s closing prices. CP said in a statement that its new bid is \"substantially similar\" to those in the CN merger agreement, \"but offers significantly higher regulatory certainty than the proposed CN merger and significantly higher value than our previously agreed combination.\" CN\\'s stock rose 1.8% premarket and CP shares shed 2.4%, while futures for the S&P 500 were little changed.\\n',\n",
       " 'https://www.marketwatch.com/story/kansas-city-southern-stock-jumps-after-canadian-pacific-submits-superior-buyout-bid-2021-08-10',\n",
       " '2021-08-10',\n",
       " 267,\n",
       " 'Kansas City Southern',\n",
       " 'KSU',\n",
       " 5142,\n",
       " 267)"
      ]
     },
     "execution_count": 4,
     "metadata": {},
     "output_type": "execute_result"
    }
   ],
   "source": [
    "articles[1000]"
   ]
  },
  {
   "cell_type": "markdown",
   "id": "0ad53c4d",
   "metadata": {},
   "source": [
    "### Each sample comes with an index, a title, the text, the link to the website, a date, a company index, the company name and ticker, and some repeat indices we will drop\n",
    "\n",
    "### In addition, we will calculate the length of each article, defined as the number of separate words.\n",
    "\n",
    "### Finally, we drop articles with less than 50 words as these are errors in the scraping and parsing steps."
   ]
  },
  {
   "cell_type": "code",
   "execution_count": 5,
   "id": "d1880431",
   "metadata": {},
   "outputs": [],
   "source": [
    "articles = pd.DataFrame(articles, columns=['idx', 'title', 'text', 'href', 'date',\n",
    "                                           'company_idx', 'company', 'ticker',\n",
    "                                          'drop1', 'drop2']).set_index('idx')\n",
    "\n",
    "articles.drop(columns=['drop1', 'drop2'], inplace=True)\n",
    "\n",
    "articles['text_size'] = articles['text'].apply(lambda x: len(x.split()))\n",
    "\n",
    "articles['date'] = pd.to_datetime(articles['date'], infer_datetime_format=True)\n",
    "\n",
    "mask = (articles['text_size'] > 50)\n",
    "articles = articles[mask]"
   ]
  },
  {
   "cell_type": "markdown",
   "id": "13a1a187",
   "metadata": {},
   "source": [
    "### Everything is nicely stored in-memory in a dataframe, let's take a look"
   ]
  },
  {
   "cell_type": "code",
   "execution_count": 6,
   "id": "5a8bd1a4",
   "metadata": {},
   "outputs": [
    {
     "data": {
      "text/html": [
       "<div>\n",
       "<style scoped>\n",
       "    .dataframe tbody tr th:only-of-type {\n",
       "        vertical-align: middle;\n",
       "    }\n",
       "\n",
       "    .dataframe tbody tr th {\n",
       "        vertical-align: top;\n",
       "    }\n",
       "\n",
       "    .dataframe thead th {\n",
       "        text-align: right;\n",
       "    }\n",
       "</style>\n",
       "<table border=\"1\" class=\"dataframe\">\n",
       "  <thead>\n",
       "    <tr style=\"text-align: right;\">\n",
       "      <th></th>\n",
       "      <th>title</th>\n",
       "      <th>text</th>\n",
       "      <th>href</th>\n",
       "      <th>date</th>\n",
       "      <th>company_idx</th>\n",
       "      <th>company</th>\n",
       "      <th>ticker</th>\n",
       "      <th>text_size</th>\n",
       "    </tr>\n",
       "    <tr>\n",
       "      <th>idx</th>\n",
       "      <th></th>\n",
       "      <th></th>\n",
       "      <th></th>\n",
       "      <th></th>\n",
       "      <th></th>\n",
       "      <th></th>\n",
       "      <th></th>\n",
       "      <th></th>\n",
       "    </tr>\n",
       "  </thead>\n",
       "  <tbody>\n",
       "    <tr>\n",
       "      <th>47310</th>\n",
       "      <td>Salesforce acquisition of Slack could trigger ...</td>\n",
       "      <td>Salesforce.com Inc.'s acquisition of Slack Tec...</td>\n",
       "      <td>https://www.marketwatch.com/story/salesforce-a...</td>\n",
       "      <td>2020-11-25</td>\n",
       "      <td>22</td>\n",
       "      <td>Alphabet (Class A)</td>\n",
       "      <td>GOOGL</td>\n",
       "      <td>121</td>\n",
       "    </tr>\n",
       "    <tr>\n",
       "      <th>131722</th>\n",
       "      <td>Jimmy Kimmel on viral videos and a giant meatball</td>\n",
       "      <td>HOLLYWOOD -- Jimmy Kimmel is one smart guy.\\nA...</td>\n",
       "      <td>https://www.marketwatch.com/story/jimmy-kimmel...</td>\n",
       "      <td>2010-06-09</td>\n",
       "      <td>483</td>\n",
       "      <td>The Walt Disney Company</td>\n",
       "      <td>DIS</td>\n",
       "      <td>820</td>\n",
       "    </tr>\n",
       "    <tr>\n",
       "      <th>13410</th>\n",
       "      <td>Apple clashes with energy to save earnings season</td>\n",
       "      <td>Expected strong profits from Apple Inc. and co...</td>\n",
       "      <td>https://www.marketwatch.com/story/apple-clashe...</td>\n",
       "      <td>2015-10-25</td>\n",
       "      <td>310</td>\n",
       "      <td>Merck &amp; Co.</td>\n",
       "      <td>MRK</td>\n",
       "      <td>413</td>\n",
       "    </tr>\n",
       "  </tbody>\n",
       "</table>\n",
       "</div>"
      ],
      "text/plain": [
       "                                                    title  \\\n",
       "idx                                                         \n",
       "47310   Salesforce acquisition of Slack could trigger ...   \n",
       "131722  Jimmy Kimmel on viral videos and a giant meatball   \n",
       "13410   Apple clashes with energy to save earnings season   \n",
       "\n",
       "                                                     text  \\\n",
       "idx                                                         \n",
       "47310   Salesforce.com Inc.'s acquisition of Slack Tec...   \n",
       "131722  HOLLYWOOD -- Jimmy Kimmel is one smart guy.\\nA...   \n",
       "13410   Expected strong profits from Apple Inc. and co...   \n",
       "\n",
       "                                                     href       date  \\\n",
       "idx                                                                    \n",
       "47310   https://www.marketwatch.com/story/salesforce-a... 2020-11-25   \n",
       "131722  https://www.marketwatch.com/story/jimmy-kimmel... 2010-06-09   \n",
       "13410   https://www.marketwatch.com/story/apple-clashe... 2015-10-25   \n",
       "\n",
       "        company_idx                  company ticker  text_size  \n",
       "idx                                                             \n",
       "47310            22       Alphabet (Class A)  GOOGL        121  \n",
       "131722          483  The Walt Disney Company    DIS        820  \n",
       "13410           310              Merck & Co.    MRK        413  "
      ]
     },
     "execution_count": 6,
     "metadata": {},
     "output_type": "execute_result"
    }
   ],
   "source": [
    "articles.sample(3)"
   ]
  },
  {
   "cell_type": "code",
   "execution_count": 7,
   "id": "6edcd77d",
   "metadata": {},
   "outputs": [
    {
     "name": "stdout",
     "output_type": "stream",
     "text": [
      "<class 'pandas.core.frame.DataFrame'>\n",
      "Int64Index: 417212 entries, 8 to 247855\n",
      "Data columns (total 8 columns):\n",
      " #   Column       Non-Null Count   Dtype         \n",
      "---  ------       --------------   -----         \n",
      " 0   title        417212 non-null  object        \n",
      " 1   text         417212 non-null  object        \n",
      " 2   href         417212 non-null  object        \n",
      " 3   date         417212 non-null  datetime64[ns]\n",
      " 4   company_idx  417212 non-null  int64         \n",
      " 5   company      417212 non-null  object        \n",
      " 6   ticker       417212 non-null  object        \n",
      " 7   text_size    417212 non-null  int64         \n",
      "dtypes: datetime64[ns](1), int64(2), object(5)\n",
      "memory usage: 28.6+ MB\n"
     ]
    }
   ],
   "source": [
    "articles.info()"
   ]
  },
  {
   "cell_type": "markdown",
   "id": "c1e06da7",
   "metadata": {},
   "source": [
    "## Exploring our dataset, we first plot the number of article-company pairs per day\n",
    "### It is fairly stable, going over a period of more than 14 years with more than 50 article-company pairs per day, reaching close to 300 in some occasions"
   ]
  },
  {
   "cell_type": "code",
   "execution_count": 8,
   "id": "8111a2af",
   "metadata": {},
   "outputs": [
    {
     "data": {
      "image/png": "[encoded data removed]",
      "text/plain": [
       "<Figure size 1080x576 with 1 Axes>"
      ]
     },
     "metadata": {
      "needs_background": "light"
     },
     "output_type": "display_data"
    }
   ],
   "source": [
    "fig, ax = plt.subplots(figsize=(15, 8))\n",
    "articles.groupby('date').size().plot(ax=ax);"
   ]
  },
  {
   "cell_type": "code",
   "execution_count": 9,
   "id": "abdb2788",
   "metadata": {},
   "outputs": [
    {
     "data": {
      "text/plain": [
       "<AxesSubplot:>"
      ]
     },
     "execution_count": 9,
     "metadata": {},
     "output_type": "execute_result"
    },
    {
     "data": {
      "image/png": "[encoded data removed]",
      "text/plain": [
       "<Figure size 432x288 with 1 Axes>"
      ]
     },
     "metadata": {
      "needs_background": "light"
     },
     "output_type": "display_data"
    }
   ],
   "source": [
    "articles[articles['date'] >= '2007-01-01'].groupby('date').size().hist(bins=30)"
   ]
  },
  {
   "cell_type": "markdown",
   "id": "81cbe308",
   "metadata": {},
   "source": [
    "### The first bin appears to be days with less than 11 articles, which seem to be quite many\n",
    "### That said, there are weekends and we can throw them out, then we only get 53 \"slow\" days\n",
    "### We possibly can throw out holidays, but it doesn't matter all that much"
   ]
  },
  {
   "cell_type": "code",
   "execution_count": 10,
   "id": "6a263e16",
   "metadata": {},
   "outputs": [
    {
     "data": {
      "text/plain": [
       "814"
      ]
     },
     "execution_count": 10,
     "metadata": {},
     "output_type": "execute_result"
    }
   ],
   "source": [
    "(articles[articles['date'] >= '2007-01-01'].groupby('date').size() < 11).sum()"
   ]
  },
  {
   "cell_type": "code",
   "execution_count": 11,
   "id": "dfecba16",
   "metadata": {},
   "outputs": [
    {
     "data": {
      "text/plain": [
       "53"
      ]
     },
     "execution_count": 11,
     "metadata": {},
     "output_type": "execute_result"
    }
   ],
   "source": [
    "(articles[(articles['date'] >= '2007-01-01') & (articles['date'].dt.weekday < 5)].groupby('date').size() < 11).sum()"
   ]
  },
  {
   "cell_type": "markdown",
   "id": "f0b0486f",
   "metadata": {},
   "source": [
    "### Next are some other summary measures per company, such as the earliest and latest article, the number of articles, and the smallest and largest article"
   ]
  },
  {
   "cell_type": "code",
   "execution_count": 12,
   "id": "67f4f236",
   "metadata": {},
   "outputs": [
    {
     "data": {
      "text/html": [
       "<div>\n",
       "<style scoped>\n",
       "    .dataframe tbody tr th:only-of-type {\n",
       "        vertical-align: middle;\n",
       "    }\n",
       "\n",
       "    .dataframe tbody tr th {\n",
       "        vertical-align: top;\n",
       "    }\n",
       "\n",
       "    .dataframe thead th {\n",
       "        text-align: right;\n",
       "    }\n",
       "</style>\n",
       "<table border=\"1\" class=\"dataframe\">\n",
       "  <thead>\n",
       "    <tr style=\"text-align: right;\">\n",
       "      <th></th>\n",
       "      <th>first</th>\n",
       "      <th>last</th>\n",
       "      <th>count</th>\n",
       "      <th>min_size</th>\n",
       "      <th>max_size</th>\n",
       "    </tr>\n",
       "    <tr>\n",
       "      <th>company</th>\n",
       "      <th></th>\n",
       "      <th></th>\n",
       "      <th></th>\n",
       "      <th></th>\n",
       "      <th></th>\n",
       "    </tr>\n",
       "  </thead>\n",
       "  <tbody>\n",
       "    <tr>\n",
       "      <th>3M</th>\n",
       "      <td>2005-02-16</td>\n",
       "      <td>2021-08-02</td>\n",
       "      <td>1364</td>\n",
       "      <td>51</td>\n",
       "      <td>15960</td>\n",
       "    </tr>\n",
       "    <tr>\n",
       "      <th>A. O. Smith</th>\n",
       "      <td>2005-06-24</td>\n",
       "      <td>2021-07-23</td>\n",
       "      <td>82</td>\n",
       "      <td>76</td>\n",
       "      <td>11527</td>\n",
       "    </tr>\n",
       "    <tr>\n",
       "      <th>ADM</th>\n",
       "      <td>2005-05-18</td>\n",
       "      <td>2021-07-27</td>\n",
       "      <td>552</td>\n",
       "      <td>54</td>\n",
       "      <td>12192</td>\n",
       "    </tr>\n",
       "    <tr>\n",
       "      <th>AES Corp</th>\n",
       "      <td>2005-05-05</td>\n",
       "      <td>2021-07-29</td>\n",
       "      <td>243</td>\n",
       "      <td>54</td>\n",
       "      <td>6945</td>\n",
       "    </tr>\n",
       "    <tr>\n",
       "      <th>APA Corporation</th>\n",
       "      <td>2004-04-16</td>\n",
       "      <td>2021-07-29</td>\n",
       "      <td>646</td>\n",
       "      <td>52</td>\n",
       "      <td>20098</td>\n",
       "    </tr>\n",
       "  </tbody>\n",
       "</table>\n",
       "</div>"
      ],
      "text/plain": [
       "                     first       last  count  min_size  max_size\n",
       "company                                                         \n",
       "3M              2005-02-16 2021-08-02   1364        51     15960\n",
       "A. O. Smith     2005-06-24 2021-07-23     82        76     11527\n",
       "ADM             2005-05-18 2021-07-27    552        54     12192\n",
       "AES Corp        2005-05-05 2021-07-29    243        54      6945\n",
       "APA Corporation 2004-04-16 2021-07-29    646        52     20098"
      ]
     },
     "execution_count": 12,
     "metadata": {},
     "output_type": "execute_result"
    }
   ],
   "source": [
    "summary = articles.groupby('company').agg(\n",
    "    first = pd.NamedAgg(column='date', aggfunc='min'),\n",
    "    last = pd.NamedAgg(column='date', aggfunc='max'),\n",
    "    count = pd.NamedAgg(column='title', aggfunc='count'),\n",
    "    min_size = pd.NamedAgg(column='text_size', aggfunc='min'),\n",
    "    max_size = pd.NamedAgg(column='text_size', aggfunc='max')\n",
    ")\n",
    "\n",
    "summary.head()"
   ]
  },
  {
   "cell_type": "code",
   "execution_count": 13,
   "id": "b0454737",
   "metadata": {},
   "outputs": [
    {
     "data": {
      "image/png": "[encoded data removed]",
      "text/plain": [
       "<Figure size 720x432 with 4 Axes>"
      ]
     },
     "metadata": {
      "needs_background": "light"
     },
     "output_type": "display_data"
    }
   ],
   "source": [
    "fig, axs = plt.subplots(2, 2, figsize=(10,6))\n",
    "summary['count'].hist(ax=axs[0,0])\n",
    "(summary['last'] - summary['first']).sort_values().dt.days.hist(ax=axs[0,1])\n",
    "summary['min_size'].hist(ax=axs[1, 0])\n",
    "summary['max_size'].hist(ax=axs[1, 1]);"
   ]
  },
  {
   "cell_type": "markdown",
   "id": "39ae8b95",
   "metadata": {},
   "source": [
    "### Let's take a closer look at the articles for 1 company, do some QA\n",
    "For ADM, most articles are smaller than 2000 words. There are some extreme outliers, which might possibly be mega-articles that mention the entire S&P index."
   ]
  },
  {
   "cell_type": "code",
   "execution_count": 14,
   "id": "2dbe9d34",
   "metadata": {},
   "outputs": [
    {
     "data": {
      "image/png": "[encoded data removed]",
      "text/plain": [
       "<Figure size 432x288 with 1 Axes>"
      ]
     },
     "metadata": {
      "needs_background": "light"
     },
     "output_type": "display_data"
    }
   ],
   "source": [
    "articles[(articles['company']=='ADM')]['text_size'].hist(bins=30);"
   ]
  },
  {
   "cell_type": "code",
   "execution_count": 15,
   "id": "f1c676fc",
   "metadata": {},
   "outputs": [
    {
     "data": {
      "text/plain": [
       "<AxesSubplot:>"
      ]
     },
     "execution_count": 15,
     "metadata": {},
     "output_type": "execute_result"
    },
    {
     "data": {
      "image/png": "[encoded data removed]",
      "text/plain": [
       "<Figure size 432x288 with 1 Axes>"
      ]
     },
     "metadata": {
      "needs_background": "light"
     },
     "output_type": "display_data"
    }
   ],
   "source": [
    "articles[(articles['company']=='ADM') & (articles['text_size'] < 2000)]['text_size'].hist(bins=30)"
   ]
  },
  {
   "cell_type": "code",
   "execution_count": 16,
   "id": "7f05ebd9",
   "metadata": {},
   "outputs": [
    {
     "data": {
      "text/html": [
       "<div>\n",
       "<style scoped>\n",
       "    .dataframe tbody tr th:only-of-type {\n",
       "        vertical-align: middle;\n",
       "    }\n",
       "\n",
       "    .dataframe tbody tr th {\n",
       "        vertical-align: top;\n",
       "    }\n",
       "\n",
       "    .dataframe thead th {\n",
       "        text-align: right;\n",
       "    }\n",
       "</style>\n",
       "<table border=\"1\" class=\"dataframe\">\n",
       "  <thead>\n",
       "    <tr style=\"text-align: right;\">\n",
       "      <th></th>\n",
       "      <th>title</th>\n",
       "      <th>text</th>\n",
       "      <th>href</th>\n",
       "      <th>date</th>\n",
       "      <th>company_idx</th>\n",
       "      <th>company</th>\n",
       "      <th>ticker</th>\n",
       "      <th>text_size</th>\n",
       "    </tr>\n",
       "    <tr>\n",
       "      <th>idx</th>\n",
       "      <th></th>\n",
       "      <th></th>\n",
       "      <th></th>\n",
       "      <th></th>\n",
       "      <th></th>\n",
       "      <th></th>\n",
       "      <th></th>\n",
       "      <th></th>\n",
       "    </tr>\n",
       "  </thead>\n",
       "  <tbody>\n",
       "    <tr>\n",
       "      <th>29140</th>\n",
       "      <td>Bunge reports loss, but sees pickup in 2018</td>\n",
       "      <td>Bunge Ltd. reported a loss in its latest quart...</td>\n",
       "      <td>https://www.marketwatch.com/story/bunge-report...</td>\n",
       "      <td>2018-02-14</td>\n",
       "      <td>48</td>\n",
       "      <td>ADM</td>\n",
       "      <td>ADM</td>\n",
       "      <td>468</td>\n",
       "    </tr>\n",
       "    <tr>\n",
       "      <th>29251</th>\n",
       "      <td>U.S. stock futures slip before more Fed talk</td>\n",
       "      <td>NEW YORK (MarketWatch) — U.S. stock futures po...</td>\n",
       "      <td>https://www.marketwatch.com/story/stock-future...</td>\n",
       "      <td>2013-08-06</td>\n",
       "      <td>48</td>\n",
       "      <td>ADM</td>\n",
       "      <td>ADM</td>\n",
       "      <td>545</td>\n",
       "    </tr>\n",
       "    <tr>\n",
       "      <th>29129</th>\n",
       "      <td>Morgan Stanley Likes Progressive</td>\n",
       "      <td>These reports, excerpted and edited by Barron’...</td>\n",
       "      <td>https://www.marketwatch.com/articles/morgan-st...</td>\n",
       "      <td>2018-11-09</td>\n",
       "      <td>48</td>\n",
       "      <td>ADM</td>\n",
       "      <td>ADM</td>\n",
       "      <td>804</td>\n",
       "    </tr>\n",
       "    <tr>\n",
       "      <th>29297</th>\n",
       "      <td>Stocks to watch Tuesday: Sears, Delta, Pfizer</td>\n",
       "      <td>WASHINGTON (MarketWatch) — Among the stocks th...</td>\n",
       "      <td>https://www.marketwatch.com/story/stocks-to-wa...</td>\n",
       "      <td>2012-05-01</td>\n",
       "      <td>48</td>\n",
       "      <td>ADM</td>\n",
       "      <td>ADM</td>\n",
       "      <td>873</td>\n",
       "    </tr>\n",
       "    <tr>\n",
       "      <th>29509</th>\n",
       "      <td>35 billion gallons or bust?</td>\n",
       "      <td>NEW YORK (MarketWatch) -- The oil-substitute s...</td>\n",
       "      <td>https://www.marketwatch.com/story/ethanol-once...</td>\n",
       "      <td>2007-11-12</td>\n",
       "      <td>48</td>\n",
       "      <td>ADM</td>\n",
       "      <td>ADM</td>\n",
       "      <td>1153</td>\n",
       "    </tr>\n",
       "  </tbody>\n",
       "</table>\n",
       "</div>"
      ],
      "text/plain": [
       "                                               title  \\\n",
       "idx                                                    \n",
       "29140    Bunge reports loss, but sees pickup in 2018   \n",
       "29251   U.S. stock futures slip before more Fed talk   \n",
       "29129               Morgan Stanley Likes Progressive   \n",
       "29297  Stocks to watch Tuesday: Sears, Delta, Pfizer   \n",
       "29509                    35 billion gallons or bust?   \n",
       "\n",
       "                                                    text  \\\n",
       "idx                                                        \n",
       "29140  Bunge Ltd. reported a loss in its latest quart...   \n",
       "29251  NEW YORK (MarketWatch) — U.S. stock futures po...   \n",
       "29129  These reports, excerpted and edited by Barron’...   \n",
       "29297  WASHINGTON (MarketWatch) — Among the stocks th...   \n",
       "29509  NEW YORK (MarketWatch) -- The oil-substitute s...   \n",
       "\n",
       "                                                    href       date  \\\n",
       "idx                                                                   \n",
       "29140  https://www.marketwatch.com/story/bunge-report... 2018-02-14   \n",
       "29251  https://www.marketwatch.com/story/stock-future... 2013-08-06   \n",
       "29129  https://www.marketwatch.com/articles/morgan-st... 2018-11-09   \n",
       "29297  https://www.marketwatch.com/story/stocks-to-wa... 2012-05-01   \n",
       "29509  https://www.marketwatch.com/story/ethanol-once... 2007-11-12   \n",
       "\n",
       "       company_idx company ticker  text_size  \n",
       "idx                                           \n",
       "29140           48     ADM    ADM        468  \n",
       "29251           48     ADM    ADM        545  \n",
       "29129           48     ADM    ADM        804  \n",
       "29297           48     ADM    ADM        873  \n",
       "29509           48     ADM    ADM       1153  "
      ]
     },
     "execution_count": 16,
     "metadata": {},
     "output_type": "execute_result"
    }
   ],
   "source": [
    "articles[articles['company'] == 'ADM'].sample(5)"
   ]
  },
  {
   "cell_type": "markdown",
   "id": "33e87b31",
   "metadata": {},
   "source": [
    "### Here is an example of an article that mentions 4 companies"
   ]
  },
  {
   "cell_type": "code",
   "execution_count": 17,
   "id": "c7065b67",
   "metadata": {},
   "outputs": [
    {
     "data": {
      "text/html": [
       "<div>\n",
       "<style scoped>\n",
       "    .dataframe tbody tr th:only-of-type {\n",
       "        vertical-align: middle;\n",
       "    }\n",
       "\n",
       "    .dataframe tbody tr th {\n",
       "        vertical-align: top;\n",
       "    }\n",
       "\n",
       "    .dataframe thead th {\n",
       "        text-align: right;\n",
       "    }\n",
       "</style>\n",
       "<table border=\"1\" class=\"dataframe\">\n",
       "  <thead>\n",
       "    <tr style=\"text-align: right;\">\n",
       "      <th></th>\n",
       "      <th>title</th>\n",
       "      <th>text</th>\n",
       "      <th>href</th>\n",
       "      <th>date</th>\n",
       "      <th>company_idx</th>\n",
       "      <th>company</th>\n",
       "      <th>ticker</th>\n",
       "      <th>text_size</th>\n",
       "    </tr>\n",
       "    <tr>\n",
       "      <th>idx</th>\n",
       "      <th></th>\n",
       "      <th></th>\n",
       "      <th></th>\n",
       "      <th></th>\n",
       "      <th></th>\n",
       "      <th></th>\n",
       "      <th></th>\n",
       "      <th></th>\n",
       "    </tr>\n",
       "  </thead>\n",
       "  <tbody>\n",
       "    <tr>\n",
       "      <th>29476</th>\n",
       "      <td>Damaging Midwest storms to subside, NWS says</td>\n",
       "      <td>SAN FRANCISCO (MarketWatch) -- Storms that hav...</td>\n",
       "      <td>https://www.marketwatch.com/story/damaging-mid...</td>\n",
       "      <td>2008-06-12</td>\n",
       "      <td>48</td>\n",
       "      <td>ADM</td>\n",
       "      <td>ADM</td>\n",
       "      <td>590</td>\n",
       "    </tr>\n",
       "    <tr>\n",
       "      <th>29476</th>\n",
       "      <td>Damaging Midwest storms to subside, NWS says</td>\n",
       "      <td>SAN FRANCISCO (MarketWatch) -- Storms that hav...</td>\n",
       "      <td>https://www.marketwatch.com/story/damaging-mid...</td>\n",
       "      <td>2008-06-12</td>\n",
       "      <td>156</td>\n",
       "      <td>Duke Energy</td>\n",
       "      <td>DUK</td>\n",
       "      <td>590</td>\n",
       "    </tr>\n",
       "    <tr>\n",
       "      <th>29476</th>\n",
       "      <td>Damaging Midwest storms to subside, NWS says</td>\n",
       "      <td>SAN FRANCISCO (MarketWatch) -- Storms that hav...</td>\n",
       "      <td>https://www.marketwatch.com/story/damaging-mid...</td>\n",
       "      <td>2008-06-12</td>\n",
       "      <td>326</td>\n",
       "      <td>The Mosaic Company</td>\n",
       "      <td>MOS</td>\n",
       "      <td>590</td>\n",
       "    </tr>\n",
       "    <tr>\n",
       "      <th>29476</th>\n",
       "      <td>Damaging Midwest storms to subside, NWS says</td>\n",
       "      <td>SAN FRANCISCO (MarketWatch) -- Storms that hav...</td>\n",
       "      <td>https://www.marketwatch.com/story/damaging-mid...</td>\n",
       "      <td>2008-06-12</td>\n",
       "      <td>454</td>\n",
       "      <td>Tyson Foods</td>\n",
       "      <td>TSN</td>\n",
       "      <td>590</td>\n",
       "    </tr>\n",
       "  </tbody>\n",
       "</table>\n",
       "</div>"
      ],
      "text/plain": [
       "                                              title  \\\n",
       "idx                                                   \n",
       "29476  Damaging Midwest storms to subside, NWS says   \n",
       "29476  Damaging Midwest storms to subside, NWS says   \n",
       "29476  Damaging Midwest storms to subside, NWS says   \n",
       "29476  Damaging Midwest storms to subside, NWS says   \n",
       "\n",
       "                                                    text  \\\n",
       "idx                                                        \n",
       "29476  SAN FRANCISCO (MarketWatch) -- Storms that hav...   \n",
       "29476  SAN FRANCISCO (MarketWatch) -- Storms that hav...   \n",
       "29476  SAN FRANCISCO (MarketWatch) -- Storms that hav...   \n",
       "29476  SAN FRANCISCO (MarketWatch) -- Storms that hav...   \n",
       "\n",
       "                                                    href       date  \\\n",
       "idx                                                                   \n",
       "29476  https://www.marketwatch.com/story/damaging-mid... 2008-06-12   \n",
       "29476  https://www.marketwatch.com/story/damaging-mid... 2008-06-12   \n",
       "29476  https://www.marketwatch.com/story/damaging-mid... 2008-06-12   \n",
       "29476  https://www.marketwatch.com/story/damaging-mid... 2008-06-12   \n",
       "\n",
       "       company_idx             company ticker  text_size  \n",
       "idx                                                       \n",
       "29476           48                 ADM    ADM        590  \n",
       "29476          156         Duke Energy    DUK        590  \n",
       "29476          326  The Mosaic Company    MOS        590  \n",
       "29476          454         Tyson Foods    TSN        590  "
      ]
     },
     "execution_count": 17,
     "metadata": {},
     "output_type": "execute_result"
    }
   ],
   "source": [
    "articles.loc[29476]"
   ]
  },
  {
   "cell_type": "markdown",
   "id": "499e42ba",
   "metadata": {},
   "source": [
    "### The problem here is 2-fold. \n",
    "First, if many companies are mentioned in an article maybe the sentiment is entity-specific and not the same for all.\n",
    "\n",
    "Second, how do we extract sentiment from articles larger than ~ 500 tokens, which is the input size of BeRT?\n",
    "\n",
    "In the following article, every company is mentioned in mostly negative sentiment for the impact of the rain. However, in others this is not the case."
   ]
  },
  {
   "cell_type": "code",
   "execution_count": 18,
   "id": "dbc8e5b1",
   "metadata": {},
   "outputs": [
    {
     "name": "stdout",
     "output_type": "stream",
     "text": [
      "SAN FRANCISCO (MarketWatch) -- Storms that have drenched and flooded the Midwest are winding down and expected to ease for a while, allowing the waterlogged heart of the nation to begin recovery, said the National Weather Service Thursday.\n",
      "After rocking parts of Iowa and other Midwestern states for about a week, the affected area should get a breather for five to six days, said Dan Luna, a Minnesota-based lead hydrologist for the National Weather Service. He sees rains then returning to their normal seasonal levels.\n",
      "AccuWeather.com, which had forecast a new round of Midwestern storms on Thursday, said it also anticipates heavy rainfall in the region will let up over the next few days.\n",
      "Damage to roads, bridges, homes and crops appears likely to reach hundreds of millions of dollars because of record flooding in Iowa and major flooding across parts of Minnesota, Wisconsin, Illinois and Indiana, the NWS says. Flood damage calculations can't be complete until waters go down and cleanup begins.\n",
      "Early reports, however, show the rains have shuttered power plants and food producers. Swamped corn fields have jacked up futures prices.\n",
      "Tyson Foods has suspended operations at its Columbus Junction and Perry plants in Iowa until Monday in anticipation that floods might cause transportation problems, spokesman Gary Mickelson said.\n",
      "The food producer also temporarily closed a plant in Jefferson, Wis., that produces pizza toppings because heavy rains have resulted in the city's waste-water treatment plants reaching near-capacity levels.\n",
      "Duke Energy Corp. had to close its small power plant in Edwardsport, Ind., on Monday as flood waters crept up, though the company hasn't seen any major damage thanks to a sandbag wall, Duke spokeswoman Angeline Protegere said.\n",
      "In futures pits, corn prices rose for a seventh straight day to a new record on concerns heavy rainfall will reduce the autumn harvest. See Food Futures.\n",
      "Risks from damaged crops and high prices sank shares of major agricultural companies.\n",
      "BioFuel Energy and ADM lost significantly. Also on the slide were Bunge Ltd. and Potash Corp.\n",
      "\"In the last 10 days, the world has changed in the corn market with massive flooding causing irreparable damage to this year's corn crop,\" Citigroup analyst David Driscoll wrote in a note. See full story.\n",
      "Several states have suffered extensive damage after receiving five to eight inches of rainfall during the past week. The downpours quickly resulted in flooding because much of the ground was saturated due to consistent rain since January.\n",
      "\"Most of [last week's] rainfall became runoff, and we had flash flooding that led to major and record river flooding,\" Luna said.\n",
      "He said one area in southern Wisconsin received 13.5 inches of rainfall in a 24-hour span from Sunday to Monday.\n",
      "\"Any time we get double-digit rainfall in a 24-hour period, we're talking about one-quarter to one-third of the annual amount of rainfall in 24 hours,\" he said. \"That's tremendous.\"\n",
      "Thursday morning, Iowa Gov. Chet Culver declared Muscatine County in eastern Iowa a disaster area, bringing the total number of Iowa counties under disaster proclamation to 55. At midday, 85 of Iowa's 99 counties were under a flood watch or warning, according to the NWS.\n",
      "In St. Louis, the Mississippi river has risen enough that the President's Casino -- a riverboat owned by Pinnacle Entertainment -- closed early Wednesday morning and doesn't expect to open until Tuesday or Wednesday next week.\n",
      "Pinnacle is expecting to lose about $100,000 in revenue a day because of the riverboat casino's closing, according to Todd George, vice president and general manager of Pinnacle unit Lumiere Place.\n",
      "\n"
     ]
    }
   ],
   "source": [
    "print(articles.loc[29476, 'text'].iloc[0])"
   ]
  },
  {
   "cell_type": "markdown",
   "id": "fc1c9866",
   "metadata": {},
   "source": [
    "### Here we can see that we have roughly 200K articles\n",
    "### We also see that only 120K of those mention solely 1 company"
   ]
  },
  {
   "cell_type": "code",
   "execution_count": 19,
   "id": "c1dccdfe",
   "metadata": {},
   "outputs": [
    {
     "data": {
      "image/png": "[encoded data removed]",
      "text/plain": [
       "<Figure size 1080x360 with 2 Axes>"
      ]
     },
     "metadata": {
      "needs_background": "light"
     },
     "output_type": "display_data"
    }
   ],
   "source": [
    "fig, axs = plt.subplots(1, 2, figsize=(15,5))\n",
    "articles.groupby('href').agg(\n",
    "    references = pd.NamedAgg(column='ticker', aggfunc='count')\n",
    ").value_counts(normalize=True).cumsum()[:10].plot(ax=axs[0]);\n",
    "articles.groupby('href').agg(\n",
    "    references = pd.NamedAgg(column='ticker', aggfunc='count')\n",
    ").value_counts().cumsum()[:10].plot(ax=axs[1]);"
   ]
  },
  {
   "cell_type": "markdown",
   "id": "4caf8b80",
   "metadata": {},
   "source": [
    "### TODO: Find out how to handle weekend articles and stock price interplay\n",
    "### TODO1: Run naive sentiment and use the same value for all companies mentioned\n",
    "### TODO2: Limit list to articles mentioning only 1 company and use that\n",
    "### TODO3: Limit list to articles mentioning 2, 3, 4, ..., companies and try to single them out in the text, calculating a different sentiment for each one"
   ]
  },
  {
   "cell_type": "markdown",
   "id": "2aa1f91a-f29f-484d-9540-28fae701bef1",
   "metadata": {},
   "source": [
    "## First thing, get articles that only mention 1 company and extract their sentiment, then save that in SQL"
   ]
  },
  {
   "cell_type": "code",
   "execution_count": 31,
   "id": "fedf1e23-22ef-4897-a135-01c8c043f4fe",
   "metadata": {},
   "outputs": [
    {
     "data": {
      "text/plain": [
       "idx\n",
       "8         False\n",
       "9         False\n",
       "14         True\n",
       "15         True\n",
       "27         True\n",
       "          ...  \n",
       "300754     True\n",
       "300755     True\n",
       "300757     True\n",
       "300758     True\n",
       "300759     True\n",
       "Length: 202616, dtype: bool"
      ]
     },
     "execution_count": 31,
     "metadata": {},
     "output_type": "execute_result"
    }
   ],
   "source": [
    "articles.groupby('idx').size() == 1"
   ]
  }
 ],
 "metadata": {
  "kernelspec": {
   "display_name": "Python 3 (ipykernel)",
   "language": "python",
   "name": "python3"
  },
  "language_info": {
   "codemirror_mode": {
    "name": "ipython",
    "version": 3
   },
   "file_extension": ".py",
   "mimetype": "text/x-python",
   "name": "python",
   "nbconvert_exporter": "python",
   "pygments_lexer": "ipython3",
   "version": "3.9.5"
  }
 },
 "nbformat": 4,
 "nbformat_minor": 5
}
