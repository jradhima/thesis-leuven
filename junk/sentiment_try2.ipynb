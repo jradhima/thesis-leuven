{
 "cells": [
  {
   "cell_type": "code",
   "execution_count": 1,
   "id": "9ce373e7",
   "metadata": {},
   "outputs": [],
   "source": [
    "import pandas as pd\n",
    "import sqlite3\n",
    "import re\n",
    "\n",
    "from transformers import BertForSequenceClassification, BertTokenizer\n",
    "import torch\n",
    "\n",
    "tokenizer = BertTokenizer.from_pretrained('ProsusAI/finbert')\n",
    "model = BertForSequenceClassification.from_pretrained('ProsusAI/finbert')"
   ]
  },
  {
   "cell_type": "code",
   "execution_count": 2,
   "id": "187b5b61",
   "metadata": {},
   "outputs": [],
   "source": [
    "con = sqlite3.connect('data.db')\n",
    "\n",
    "cur = con.cursor()\n",
    "\n",
    "articles = [*cur.execute(\"select * from article;\")]\n",
    "companies = [*cur.execute(\"select * from company;\")]\n",
    "a2c = [*cur.execute(\"select * from article_company;\")]\n",
    "\n",
    "con.close()"
   ]
  },
  {
   "cell_type": "code",
   "execution_count": 3,
   "id": "6fdfdea1",
   "metadata": {},
   "outputs": [],
   "source": [
    "articles = pd.DataFrame(articles, columns=['idx', 'title', 'text', 'href', 'date']).set_index('idx')\n",
    "a2c = pd.DataFrame(a2c, columns=['article_id', 'company_id'])\n",
    "companies = pd.DataFrame(companies, columns=['idx', 'name', 'ticker']).set_index('idx')"
   ]
  },
  {
   "cell_type": "code",
   "execution_count": 4,
   "id": "3b54e000",
   "metadata": {},
   "outputs": [],
   "source": [
    "articles['text_size'] = articles['text'].apply(lambda x: len(x.split()))"
   ]
  },
  {
   "cell_type": "code",
   "execution_count": 50,
   "id": "70e62010",
   "metadata": {},
   "outputs": [
    {
     "data": {
      "text/html": [
       "<div>\n",
       "<style scoped>\n",
       "    .dataframe tbody tr th:only-of-type {\n",
       "        vertical-align: middle;\n",
       "    }\n",
       "\n",
       "    .dataframe tbody tr th {\n",
       "        vertical-align: top;\n",
       "    }\n",
       "\n",
       "    .dataframe thead th {\n",
       "        text-align: right;\n",
       "    }\n",
       "</style>\n",
       "<table border=\"1\" class=\"dataframe\">\n",
       "  <thead>\n",
       "    <tr style=\"text-align: right;\">\n",
       "      <th></th>\n",
       "      <th>title</th>\n",
       "      <th>text</th>\n",
       "      <th>href</th>\n",
       "      <th>date</th>\n",
       "      <th>text_size</th>\n",
       "    </tr>\n",
       "    <tr>\n",
       "      <th>idx</th>\n",
       "      <th></th>\n",
       "      <th></th>\n",
       "      <th></th>\n",
       "      <th></th>\n",
       "      <th></th>\n",
       "    </tr>\n",
       "  </thead>\n",
       "  <tbody>\n",
       "    <tr>\n",
       "      <th>188424</th>\n",
       "      <td>S&amp;P 500 stock repurchases rose 22% in latest qtr</td>\n",
       "      <td>Companies in the Standard &amp; Poor's 500 index s...</td>\n",
       "      <td>https://www.marketwatch.com/story/sp-500-stock...</td>\n",
       "      <td>2011-09-20</td>\n",
       "      <td>155</td>\n",
       "    </tr>\n",
       "    <tr>\n",
       "      <th>214495</th>\n",
       "      <td>10 fallen sports heroes, led by Lance Armstrong</td>\n",
       "      <td>Lance Armstrong’s contract with Nike Inc. was ...</td>\n",
       "      <td>https://www.marketwatch.com/story/10-fallen-sp...</td>\n",
       "      <td>2012-10-22</td>\n",
       "      <td>551</td>\n",
       "    </tr>\n",
       "    <tr>\n",
       "      <th>250010</th>\n",
       "      <td>PulteGroup Inc. stock rises Wednesday, outperf...</td>\n",
       "      <td>Shares of PulteGroup Inc. advanced 2.70% to $5...</td>\n",
       "      <td>https://www.marketwatch.com/story/pultegroup-i...</td>\n",
       "      <td>2021-04-28</td>\n",
       "      <td>141</td>\n",
       "    </tr>\n",
       "    <tr>\n",
       "      <th>193023</th>\n",
       "      <td>Europe scores strong gains, led by miners, BASF</td>\n",
       "      <td>LONDON (MarketWatch) -- European shares posted...</td>\n",
       "      <td>https://www.marketwatch.com/story/miners-tech-...</td>\n",
       "      <td>2009-10-14</td>\n",
       "      <td>595</td>\n",
       "    </tr>\n",
       "    <tr>\n",
       "      <th>219623</th>\n",
       "      <td>Las Vegas Presses Its Luck in the Postpandemic...</td>\n",
       "      <td>Las Vegas is coming back to life.\\nOn a Wednes...</td>\n",
       "      <td>https://www.marketwatch.com/articles/las-vegas...</td>\n",
       "      <td>2021-06-04</td>\n",
       "      <td>1387</td>\n",
       "    </tr>\n",
       "  </tbody>\n",
       "</table>\n",
       "</div>"
      ],
      "text/plain": [
       "                                                    title  \\\n",
       "idx                                                         \n",
       "188424   S&P 500 stock repurchases rose 22% in latest qtr   \n",
       "214495    10 fallen sports heroes, led by Lance Armstrong   \n",
       "250010  PulteGroup Inc. stock rises Wednesday, outperf...   \n",
       "193023    Europe scores strong gains, led by miners, BASF   \n",
       "219623  Las Vegas Presses Its Luck in the Postpandemic...   \n",
       "\n",
       "                                                     text  \\\n",
       "idx                                                         \n",
       "188424  Companies in the Standard & Poor's 500 index s...   \n",
       "214495  Lance Armstrong’s contract with Nike Inc. was ...   \n",
       "250010  Shares of PulteGroup Inc. advanced 2.70% to $5...   \n",
       "193023  LONDON (MarketWatch) -- European shares posted...   \n",
       "219623  Las Vegas is coming back to life.\\nOn a Wednes...   \n",
       "\n",
       "                                                     href        date  \\\n",
       "idx                                                                     \n",
       "188424  https://www.marketwatch.com/story/sp-500-stock...  2011-09-20   \n",
       "214495  https://www.marketwatch.com/story/10-fallen-sp...  2012-10-22   \n",
       "250010  https://www.marketwatch.com/story/pultegroup-i...  2021-04-28   \n",
       "193023  https://www.marketwatch.com/story/miners-tech-...  2009-10-14   \n",
       "219623  https://www.marketwatch.com/articles/las-vegas...  2021-06-04   \n",
       "\n",
       "        text_size  \n",
       "idx                \n",
       "188424        155  \n",
       "214495        551  \n",
       "250010        141  \n",
       "193023        595  \n",
       "219623       1387  "
      ]
     },
     "execution_count": 50,
     "metadata": {},
     "output_type": "execute_result"
    }
   ],
   "source": [
    "articles.sample(5)"
   ]
  },
  {
   "cell_type": "code",
   "execution_count": 39,
   "id": "9fa8cf01",
   "metadata": {},
   "outputs": [
    {
     "data": {
      "text/html": [
       "<div>\n",
       "<style scoped>\n",
       "    .dataframe tbody tr th:only-of-type {\n",
       "        vertical-align: middle;\n",
       "    }\n",
       "\n",
       "    .dataframe tbody tr th {\n",
       "        vertical-align: top;\n",
       "    }\n",
       "\n",
       "    .dataframe thead th {\n",
       "        text-align: right;\n",
       "    }\n",
       "</style>\n",
       "<table border=\"1\" class=\"dataframe\">\n",
       "  <thead>\n",
       "    <tr style=\"text-align: right;\">\n",
       "      <th></th>\n",
       "      <th>title</th>\n",
       "      <th>text</th>\n",
       "      <th>href</th>\n",
       "      <th>date</th>\n",
       "      <th>text_size</th>\n",
       "    </tr>\n",
       "    <tr>\n",
       "      <th>idx</th>\n",
       "      <th></th>\n",
       "      <th></th>\n",
       "      <th></th>\n",
       "      <th></th>\n",
       "      <th></th>\n",
       "    </tr>\n",
       "  </thead>\n",
       "  <tbody>\n",
       "    <tr>\n",
       "      <th>54698</th>\n",
       "      <td>Updates, advisories and surprises</td>\n",
       "      <td>Mazda profit up nearly sixteen-fold, outlook u...</td>\n",
       "      <td>https://www.marketwatch.com/story/updates-advi...</td>\n",
       "      <td>2006-07-27</td>\n",
       "      <td>20098</td>\n",
       "    </tr>\n",
       "    <tr>\n",
       "      <th>31282</th>\n",
       "      <td>Updates, advisories and surprises</td>\n",
       "      <td>Standard Pacific quarterly profit surges 79% (...</td>\n",
       "      <td>https://www.marketwatch.com/story/updates-advi...</td>\n",
       "      <td>2005-07-28</td>\n",
       "      <td>19693</td>\n",
       "    </tr>\n",
       "    <tr>\n",
       "      <th>31755</th>\n",
       "      <td>Updates, advisories and surprises</td>\n",
       "      <td>CORRECT: Emulex quarterly profit rises 15% (9:...</td>\n",
       "      <td>https://www.marketwatch.com/story/updates-advi...</td>\n",
       "      <td>2005-10-27</td>\n",
       "      <td>18698</td>\n",
       "    </tr>\n",
       "    <tr>\n",
       "      <th>31747</th>\n",
       "      <td>Updates, advisories and surprises</td>\n",
       "      <td>Mazda announces record earnings for 2005 (11:0...</td>\n",
       "      <td>https://www.marketwatch.com/story/updates-advi...</td>\n",
       "      <td>2006-04-27</td>\n",
       "      <td>18175</td>\n",
       "    </tr>\n",
       "    <tr>\n",
       "      <th>25345</th>\n",
       "      <td>Updates, advisories and surprises</td>\n",
       "      <td>Granite Contruction quarterly loss narrows (8:...</td>\n",
       "      <td>https://www.marketwatch.com/story/updates-advi...</td>\n",
       "      <td>2006-04-26</td>\n",
       "      <td>16484</td>\n",
       "    </tr>\n",
       "    <tr>\n",
       "      <th>...</th>\n",
       "      <td>...</td>\n",
       "      <td>...</td>\n",
       "      <td>...</td>\n",
       "      <td>...</td>\n",
       "      <td>...</td>\n",
       "    </tr>\n",
       "    <tr>\n",
       "      <th>119737</th>\n",
       "      <td>Chevron up, but energy stocks drop</td>\n",
       "      <td>NEW YORK (MarketWatch) -- Shares of Chevron Co...</td>\n",
       "      <td>https://www.marketwatch.com/story/chevron-up-b...</td>\n",
       "      <td>2012-09-24</td>\n",
       "      <td>51</td>\n",
       "    </tr>\n",
       "    <tr>\n",
       "      <th>231392</th>\n",
       "      <td>Tech stocks try to edge upward in early trading</td>\n",
       "      <td>SAN FRANCISCO (MarketWatch) -- Tech stocks too...</td>\n",
       "      <td>https://www.marketwatch.com/story/tech-stocks-...</td>\n",
       "      <td>2012-05-07</td>\n",
       "      <td>51</td>\n",
       "    </tr>\n",
       "    <tr>\n",
       "      <th>192997</th>\n",
       "      <td>Intel hikes quarterly dividend 12.5%</td>\n",
       "      <td>NEW YORK (MarketWatch) -- Intel Corp. said Mon...</td>\n",
       "      <td>https://www.marketwatch.com/story/intel-hikes-...</td>\n",
       "      <td>2009-11-16</td>\n",
       "      <td>51</td>\n",
       "    </tr>\n",
       "    <tr>\n",
       "      <th>93818</th>\n",
       "      <td>Royal Caribbean’s $1 billion deal shows demand...</td>\n",
       "      <td>Royal Caribbean Cruises dove head-first into l...</td>\n",
       "      <td>https://www.marketwatch.com/story/royal-caribb...</td>\n",
       "      <td>2018-06-18</td>\n",
       "      <td>51</td>\n",
       "    </tr>\n",
       "    <tr>\n",
       "      <th>67112</th>\n",
       "      <td>Merrill Lowers Account Minimum on Digital Inve...</td>\n",
       "      <td>Bank of America’s Merrill unit is opening up i...</td>\n",
       "      <td>https://www.marketwatch.com/articles/merrill-l...</td>\n",
       "      <td>2021-03-25</td>\n",
       "      <td>51</td>\n",
       "    </tr>\n",
       "  </tbody>\n",
       "</table>\n",
       "<p>292997 rows × 5 columns</p>\n",
       "</div>"
      ],
      "text/plain": [
       "                                                    title  \\\n",
       "idx                                                         \n",
       "54698                   Updates, advisories and surprises   \n",
       "31282                   Updates, advisories and surprises   \n",
       "31755                   Updates, advisories and surprises   \n",
       "31747                   Updates, advisories and surprises   \n",
       "25345                   Updates, advisories and surprises   \n",
       "...                                                   ...   \n",
       "119737                 Chevron up, but energy stocks drop   \n",
       "231392    Tech stocks try to edge upward in early trading   \n",
       "192997               Intel hikes quarterly dividend 12.5%   \n",
       "93818   Royal Caribbean’s $1 billion deal shows demand...   \n",
       "67112   Merrill Lowers Account Minimum on Digital Inve...   \n",
       "\n",
       "                                                     text  \\\n",
       "idx                                                         \n",
       "54698   Mazda profit up nearly sixteen-fold, outlook u...   \n",
       "31282   Standard Pacific quarterly profit surges 79% (...   \n",
       "31755   CORRECT: Emulex quarterly profit rises 15% (9:...   \n",
       "31747   Mazda announces record earnings for 2005 (11:0...   \n",
       "25345   Granite Contruction quarterly loss narrows (8:...   \n",
       "...                                                   ...   \n",
       "119737  NEW YORK (MarketWatch) -- Shares of Chevron Co...   \n",
       "231392  SAN FRANCISCO (MarketWatch) -- Tech stocks too...   \n",
       "192997  NEW YORK (MarketWatch) -- Intel Corp. said Mon...   \n",
       "93818   Royal Caribbean Cruises dove head-first into l...   \n",
       "67112   Bank of America’s Merrill unit is opening up i...   \n",
       "\n",
       "                                                     href        date  \\\n",
       "idx                                                                     \n",
       "54698   https://www.marketwatch.com/story/updates-advi...  2006-07-27   \n",
       "31282   https://www.marketwatch.com/story/updates-advi...  2005-07-28   \n",
       "31755   https://www.marketwatch.com/story/updates-advi...  2005-10-27   \n",
       "31747   https://www.marketwatch.com/story/updates-advi...  2006-04-27   \n",
       "25345   https://www.marketwatch.com/story/updates-advi...  2006-04-26   \n",
       "...                                                   ...         ...   \n",
       "119737  https://www.marketwatch.com/story/chevron-up-b...  2012-09-24   \n",
       "231392  https://www.marketwatch.com/story/tech-stocks-...  2012-05-07   \n",
       "192997  https://www.marketwatch.com/story/intel-hikes-...  2009-11-16   \n",
       "93818   https://www.marketwatch.com/story/royal-caribb...  2018-06-18   \n",
       "67112   https://www.marketwatch.com/articles/merrill-l...  2021-03-25   \n",
       "\n",
       "        text_size  \n",
       "idx                \n",
       "54698       20098  \n",
       "31282       19693  \n",
       "31755       18698  \n",
       "31747       18175  \n",
       "25345       16484  \n",
       "...           ...  \n",
       "119737         51  \n",
       "231392         51  \n",
       "192997         51  \n",
       "93818          51  \n",
       "67112          51  \n",
       "\n",
       "[292997 rows x 5 columns]"
      ]
     },
     "execution_count": 39,
     "metadata": {},
     "output_type": "execute_result"
    }
   ],
   "source": [
    "articles.sort_values(by='text_size', ascending=False)"
   ]
  },
  {
   "cell_type": "code",
   "execution_count": 7,
   "id": "cb25bc6f",
   "metadata": {},
   "outputs": [
    {
     "data": {
      "text/plain": [
       "0    5412\n",
       "5      18\n",
       "4      16\n",
       "8      10\n",
       "6      10\n",
       "9       9\n",
       "7       9\n",
       "2       3\n",
       "3       2\n",
       "1       1\n",
       "Name: text_size, dtype: int64"
      ]
     },
     "execution_count": 7,
     "metadata": {},
     "output_type": "execute_result"
    }
   ],
   "source": [
    "mask = articles['text_size'] < 10\n",
    "articles.loc[mask, 'text_size'].value_counts()"
   ]
  },
  {
   "cell_type": "code",
   "execution_count": 8,
   "id": "0715f4ab",
   "metadata": {},
   "outputs": [
    {
     "data": {
      "image/png": "[encoded data removed]",
      "text/plain": [
       "<Figure size 1080x360 with 1 Axes>"
      ]
     },
     "metadata": {
      "needs_background": "light"
     },
     "output_type": "display_data"
    }
   ],
   "source": [
    "articles[articles['text_size'] < 250].hist(bins=50, figsize=(15,5));"
   ]
  },
  {
   "cell_type": "code",
   "execution_count": 9,
   "id": "35e4bf2e",
   "metadata": {},
   "outputs": [
    {
     "data": {
      "image/png": "[encoded data removed]",
      "text/plain": [
       "<Figure size 1080x360 with 1 Axes>"
      ]
     },
     "metadata": {
      "needs_background": "light"
     },
     "output_type": "display_data"
    }
   ],
   "source": [
    "mask = articles['text_size'] > 50\n",
    "articles = articles[mask]\n",
    "articles[articles['text_size'] < 1000].hist(bins=50, figsize=(15,5));"
   ]
  },
  {
   "cell_type": "code",
   "execution_count": 51,
   "id": "0d0e8d7f",
   "metadata": {},
   "outputs": [],
   "source": [
    "example_id = 219623\n",
    "\n",
    "article_text = articles.loc[example_id, 'text']\n",
    "article_chunks = article_text.split('\\n')"
   ]
  },
  {
   "cell_type": "code",
   "execution_count": 52,
   "id": "9846058c",
   "metadata": {},
   "outputs": [
    {
     "data": {
      "text/plain": [
       "['Las Vegas is coming back to life.',\n",
       " 'On a Wednesday evening last month, the casino was humming at the Venetian Resort on the Las Vegas Strip. Slot-machine players, some wearing masks, hoped to get lucky amid the faint smell of cigarette smoke. The machines were lined up close together, one after another.',\n",
       " 'Upstairs at an Italian restaurant in a replica of Venice’s St. Mark’s Square, the tables were about half-full. “It’s getting better. We’re going to have conventions soon,” says Silvia Saucezo, a waitress there, adding that Fridays and Saturdays were the best nights for business.',\n",
       " 'The pandemic hit Las Vegas hard in March 2020. Gambling is often resilient during economic downturns, but it’s hard to maintain business as usual when casinos are shut down for nearly three months. Convention business dried up, too. And with none of the buffets or signature shows open and lockdowns in place, leisure travel froze. Thousands of workers whose livelihood is tied to the 24/7 bustle of Sin City were suddenly out of work.',\n",
       " 'Now, lifted by a surge of leisure travelers, Las Vegas is shaking off the pandemic’s grip and staging a comeback. The entertainment and gambling destination reopened haltingly last June but is now boring toward a full return. Many Covid-19 protocols in the city have been eased or done away with in the past few weeks, and many casinos and businesses are reporting brisk activity, especially on weekends.',\n",
       " '“It’s been trending up since Presidents Day weekend,” says Manu Kennedy, an driver in the city. “Ever since that weekend, it’s been wall-to-wall people.”',\n",
       " 'In March, (ticker: MGM), which has the most hotel rooms on the Strip, set a monthly record, with 1.3 million nights booked for this year and into 2022 on a gross basis. “We’ve already seen it in March, it carried into April, and we are seeing it through the summer,” the company’s CEO, Bill Hornbuckle, told Barron’s in a recent interview.',\n",
       " 'But for MGM and its peers, there remain a number of hurdles to overcome, including a labor shortage and corporate restrictions on travel. Crucial offerings that give Sin City its special sauce—such as night clubs, Celine Dion concerts, and large trade shows—haven’t resumed in force, though they are on the horizon.',\n",
       " 'Amid the rapidly evolving and improving Covid landscape, investors need to be discerning, given the big run-up that most Las Vegas–related stocks have had as reopening plays. The stocks have also benefited from the allure of digital gambling and sports wagering, which bricks-and-mortar operators have embraced. The has returned about 20% this year, ahead of the S&P 500’s 13% gain.',\n",
       " '“There’s obviously a lot of good news that’s priced into these stocks right now,” says Carlo Santarelli, an analyst at Deutsche Bank Securities.',\n",
       " 'Nevertheless, there are some sensible ways for stock investors to play the city’s recovery, real estate in particular. Other options include some of the operators on and off the Strip.',\n",
       " 'The recent burst of Las Vegas leisure travelers aside, appearances can be deceiving. Las Vegas today remains far from its prepandemic peak by almost every metric, from revenue to overall occupancy to the number of visitors. But it’s much closer to what passes for normalcy than just a few months ago, as the tangible signs of the pandemic fade away and traffic on the Strip picks up. In July, for example, acrobatic act Cirque du Soleil is set to resume its shows at the Bellagio on the Strip. Bruno Mars is also on the docket that month, with six sold-out shows at the 5,200-seat Park Theater.',\n",
       " 'Covid protocols are evolving quickly. Fully vaccinated MGM guests and employees, for example, no longer have to wear masks—but those who aren’t vaccinated must don masks. The Bellagio, an iconic 4,000-room resort famous for its “dancing” fountains, received approval last month from the Nevada Gaming Control Board to raise its casino floor’s capacity to 100%, and the plexiglass installed as a Covid protection in bars, restaurants, and on the casino floor has been removed. Other casinos, including the Cosmopolitan next door, have made similar announcements.',\n",
       " 'On June 1, Clark County’s Covid-mitigation plan expired, “allowing for the return of prepandemic guidelines that lift restrictions involving capacity limits, large gatherings, and more,” according to the county commission.',\n",
       " 'In April, Las Vegas weekend hotel occupancy was 83.5%, up from 48% in January and moving back toward its prepandemic levels of about 90%. “Weekend occupancies are back up, weekend traffic is back up, and room rates are starting to rise as a result of occupancies,” Keith Smith, CEO of (BYD), told Barron’s during a recent interview at the company’s headquarters near the Strip.',\n",
       " 'Boyd Gaming operates several Las Vegas properties off the Strip, including The Orleans, and an assortment of regional casinos. The uptick, Smith says, “is driven by destination travelers being comfortable getting vaccinated and coming back to Las Vegas by getting on airplanes or driving.” Air travel to and from Las Vegas in April nearly doubled from January, to 2.9 million passengers. Of course, that’s still well off prepandemic monthly levels of over four million.',\n",
       " 'Various casino executives have said they expect to see a further improvement in the weekend business in the near term. Hotel occupancy on weekends and weekdays for all of Las Vegas, including the Strip, was 66% in April, up from 32% in January, and it has been moving up quickly. “Our weekends going forward are in the 90s in terms of occupancy” in Las Vegas, (WYNN) CEO Matthew Maddox told analysts during the company’s first-quarter earnings call.',\n",
       " 'Some big holes remain, however. International travel—an important source of customers, especially at the higher end—remains weak due to Covid restrictions. Midweek business, which relies heavily on business meetings, conventions, and trade shows, remains challenged.',\n",
       " 'Jeremy Aguero, a principal analyst with Las Vegas–based consulting firm Applied Analysis, expects that “leisure travel will dominate for a while.” However, he adds, “by the end of calendar-year 2022, we’re very hopeful that both leisure travel and business travel, and even some international travel, is pretty close to back to normal.”',\n",
       " 'Such optimism is a hallmark of the city that arose from the desert to become a glitzy global destination. Las Vegas has gone through numerous iterations, from downtown gambling halls in the 1940s to the late-1990s rise of the mega-resorts and casinos that now dot the Strip. More recently, faced with more competition from regional casinos, the city has become a shopping, dining, and entertainment destination—in part by hosting concerts in large venues; major league sports, including the National Football League’s Las Vegas Raiders; and other big events. In 2019, nongambling activities accounted for nearly two-thirds of the Strip’s revenue, up from 41% in 1989, according to the Center for Gaming Research at the University of Nevada, Las Vegas.',\n",
       " '“Las Vegas is a hospitality and entertainment market before it is a gaming market,” says David Katz, an analyst at Jefferies.',\n",
       " 'And the evolution continues. Resorts World Las Vegas, a hulking 3,500-room and suite luxury resort and casino set to open on June 24, will be the first new property built on the Strip in more than a decade. Its developer is Genting Group, a holding company that includes (4715.Malaysia). Singers Katy Perry and Dion are among the artists lined up for shows at Resorts World. The MSG Sphere at the Venetian, a concert venue with an expected seating capacity of about 17,000, is taking shape with an estimated price tag of $1.8 billion. Billed as a multisensory performance venue, it is expected to open in 2023.',\n",
       " 'Smith of Boyd Gaming, however, says the city doesn’t have to resort to transformation to move forward successfully in the postpandemic era. “We don’t have to reinvent ourselves any longer,” he says. With about “150,000 hotel rooms and the amount of convention space here, it is kind of hard to reinvent at this point. But what Las Vegas does do is continue to expand and grow.”',\n",
       " 'The city has grown with the help of business and group meetings, conventions, and trade shows—segments that shored up the midweek bookings over the years. On a Thursday morning in early May, though, the Sands Expo Center was vacant, and there were only a few business meetings listed on a screen in one of the lobbies of the Venetian—not much activity compared with the usual flow.']"
      ]
     },
     "execution_count": 52,
     "metadata": {},
     "output_type": "execute_result"
    }
   ],
   "source": [
    "elements_to_pop = []\n",
    "\n",
    "for i, chunk in enumerate(article_chunks):\n",
    "    if re.search(\"\\S*@\\S*\", chunk) != None or chunk == '':\n",
    "        elements_to_pop.append(i)\n",
    "\n",
    "for i in reversed(elements_to_pop):\n",
    "    article_chunks.pop(i)\n",
    "\n",
    "article_chunks"
   ]
  },
  {
   "cell_type": "code",
   "execution_count": 53,
   "id": "ec7598ad",
   "metadata": {},
   "outputs": [],
   "source": [
    "input_id_chunks = []\n",
    "mask_chunks = []\n",
    "\n",
    "for i in range(len(article_chunks)):\n",
    "    token = tokenizer.encode_plus(article_chunks[i], add_special_tokens=False, return_tensors='pt')\n",
    "    input_id_chunks.append(token['input_ids'][0])\n",
    "    mask_chunks.append(token['attention_mask'][0])"
   ]
  },
  {
   "cell_type": "code",
   "execution_count": 54,
   "id": "27a5b25c-8b24-4e1b-96c4-497c6acda21f",
   "metadata": {},
   "outputs": [
    {
     "data": {
      "text/plain": [
       "(tensor([5869, 7136, 2003, 2746, 2067, 2000, 2166, 1012]),\n",
       " tensor([1, 1, 1, 1, 1, 1, 1, 1]))"
      ]
     },
     "execution_count": 54,
     "metadata": {},
     "output_type": "execute_result"
    }
   ],
   "source": [
    "input_id_chunks[0], mask_chunks[0]"
   ]
  },
  {
   "cell_type": "code",
   "execution_count": 55,
   "id": "7e613da2-d015-428f-a3f0-7d81e00a4fde",
   "metadata": {},
   "outputs": [],
   "source": [
    "chunksize = 512\n",
    "alpha = torch.tensor([101])\n",
    "beta = torch.tensor([1])\n",
    "input_tensors = []\n",
    "mask_tensors = []\n",
    "\n",
    "for i in range(len(input_id_chunks)):\n",
    "    if len(input_id_chunks[i]) + len(alpha) < 512:\n",
    "        alpha = torch.cat([alpha, input_id_chunks[i]])\n",
    "        beta = torch.cat([beta, mask_chunks[i]])\n",
    "    else:\n",
    "        alpha = torch.cat([alpha, torch.tensor([102]), torch.tensor([0] * (chunksize - len(alpha) - 1))])\n",
    "        beta = torch.cat([beta, torch.tensor([1]), torch.tensor([0] * (chunksize - len(beta) - 1))])\n",
    "        \n",
    "        input_tensors.append(alpha)\n",
    "        mask_tensors.append(beta)\n",
    "        \n",
    "        alpha = torch.tensor([101])\n",
    "        beta = torch.tensor([1])"
   ]
  },
  {
   "cell_type": "code",
   "execution_count": 2,
   "id": "a12974d2",
   "metadata": {},
   "outputs": [
    {
     "ename": "NameError",
     "evalue": "name 'torch' is not defined",
     "output_type": "error",
     "traceback": [
      "\u001b[0;31m---------------------------------------------------------------------------\u001b[0m",
      "\u001b[0;31mNameError\u001b[0m                                 Traceback (most recent call last)",
      "\u001b[0;32m/tmp/ipykernel_199/646035846.py\u001b[0m in \u001b[0;36m<module>\u001b[0;34m\u001b[0m\n\u001b[0;32m----> 1\u001b[0;31m \u001b[0minput_ids\u001b[0m \u001b[0;34m=\u001b[0m \u001b[0mtorch\u001b[0m\u001b[0;34m.\u001b[0m\u001b[0mstack\u001b[0m\u001b[0;34m(\u001b[0m\u001b[0minput_tensors\u001b[0m\u001b[0;34m)\u001b[0m\u001b[0;34m\u001b[0m\u001b[0;34m\u001b[0m\u001b[0m\n\u001b[0m\u001b[1;32m      2\u001b[0m \u001b[0mattention_mask\u001b[0m \u001b[0;34m=\u001b[0m \u001b[0mtorch\u001b[0m\u001b[0;34m.\u001b[0m\u001b[0mstack\u001b[0m\u001b[0;34m(\u001b[0m\u001b[0mmask_tensors\u001b[0m\u001b[0;34m)\u001b[0m\u001b[0;34m\u001b[0m\u001b[0;34m\u001b[0m\u001b[0m\n\u001b[1;32m      3\u001b[0m \u001b[0;34m\u001b[0m\u001b[0m\n\u001b[1;32m      4\u001b[0m input_dict = {\n\u001b[1;32m      5\u001b[0m     \u001b[0;34m'input_ids'\u001b[0m\u001b[0;34m:\u001b[0m \u001b[0minput_ids\u001b[0m\u001b[0;34m.\u001b[0m\u001b[0mlong\u001b[0m\u001b[0;34m(\u001b[0m\u001b[0;34m)\u001b[0m\u001b[0;34m,\u001b[0m\u001b[0;34m\u001b[0m\u001b[0;34m\u001b[0m\u001b[0m\n",
      "\u001b[0;31mNameError\u001b[0m: name 'torch' is not defined"
     ]
    }
   ],
   "source": [
    "input_ids = torch.stack(input_tensors)\n",
    "attention_mask = torch.stack(mask_tensors)\n",
    "\n",
    "input_dict = {\n",
    "    'input_ids': input_ids.long(),\n",
    "    'attention_mask': attention_mask.int()\n",
    "}\n",
    "input_dict"
   ]
  },
  {
   "cell_type": "code",
   "execution_count": 1,
   "id": "17957d80",
   "metadata": {},
   "outputs": [
    {
     "ename": "NameError",
     "evalue": "name 'model' is not defined",
     "output_type": "error",
     "traceback": [
      "\u001b[0;31m---------------------------------------------------------------------------\u001b[0m",
      "\u001b[0;31mNameError\u001b[0m                                 Traceback (most recent call last)",
      "\u001b[0;32m/tmp/ipykernel_199/2335718528.py\u001b[0m in \u001b[0;36m<module>\u001b[0;34m\u001b[0m\n\u001b[0;32m----> 1\u001b[0;31m \u001b[0moutputs\u001b[0m \u001b[0;34m=\u001b[0m \u001b[0mmodel\u001b[0m\u001b[0;34m(\u001b[0m\u001b[0;34m**\u001b[0m\u001b[0minput_dict\u001b[0m\u001b[0;34m)\u001b[0m\u001b[0;34m\u001b[0m\u001b[0;34m\u001b[0m\u001b[0m\n\u001b[0m\u001b[1;32m      2\u001b[0m \u001b[0mprobs\u001b[0m \u001b[0;34m=\u001b[0m \u001b[0mtorch\u001b[0m\u001b[0;34m.\u001b[0m\u001b[0mnn\u001b[0m\u001b[0;34m.\u001b[0m\u001b[0mfunctional\u001b[0m\u001b[0;34m.\u001b[0m\u001b[0msoftmax\u001b[0m\u001b[0;34m(\u001b[0m\u001b[0moutputs\u001b[0m\u001b[0;34m[\u001b[0m\u001b[0;36m0\u001b[0m\u001b[0;34m]\u001b[0m\u001b[0;34m,\u001b[0m \u001b[0mdim\u001b[0m\u001b[0;34m=\u001b[0m\u001b[0;34m-\u001b[0m\u001b[0;36m1\u001b[0m\u001b[0;34m)\u001b[0m\u001b[0;34m\u001b[0m\u001b[0;34m\u001b[0m\u001b[0m\n\u001b[1;32m      3\u001b[0m \u001b[0mprobs\u001b[0m\u001b[0;34m\u001b[0m\u001b[0;34m\u001b[0m\u001b[0m\n",
      "\u001b[0;31mNameError\u001b[0m: name 'model' is not defined"
     ]
    }
   ],
   "source": [
    "outputs = model(**input_dict)\n",
    "probs = torch.nn.functional.softmax(outputs[0], dim=-1)\n",
    "probs"
   ]
  },
  {
   "cell_type": "code",
   "execution_count": 37,
   "id": "9d15efd0",
   "metadata": {},
   "outputs": [
    {
     "data": {
      "text/plain": [
       "tensor([0.0293, 0.9508, 0.0199], grad_fn=<MeanBackward1>)"
      ]
     },
     "execution_count": 37,
     "metadata": {},
     "output_type": "execute_result"
    }
   ],
   "source": [
    "probs = probs.mean(dim=0)\n",
    "probs"
   ]
  }
 ],
 "metadata": {
  "kernelspec": {
   "display_name": "Python 3 (ipykernel)",
   "language": "python",
   "name": "python3"
  },
  "language_info": {
   "codemirror_mode": {
    "name": "ipython",
    "version": 3
   },
   "file_extension": ".py",
   "mimetype": "text/x-python",
   "name": "python",
   "nbconvert_exporter": "python",
   "pygments_lexer": "ipython3",
   "version": "3.9.5"
  }
 },
 "nbformat": 4,
 "nbformat_minor": 5
}
