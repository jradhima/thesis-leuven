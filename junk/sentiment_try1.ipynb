{
 "cells": [
  {
   "cell_type": "code",
   "execution_count": 1,
   "id": "0d2b8c54-b283-4f27-b35f-64233f053405",
   "metadata": {},
   "outputs": [],
   "source": [
    "import pandas as pd\n",
    "import sqlite3\n",
    "\n",
    "from transformers import BertTokenizer, BertForSequenceClassification\n",
    "from transformers import pipeline"
   ]
  },
  {
   "cell_type": "code",
   "execution_count": 2,
   "id": "3d42714d-2230-43a9-aa21-f0513b1b4b81",
   "metadata": {},
   "outputs": [],
   "source": [
    "con = sqlite3.connect('data.db')"
   ]
  },
  {
   "cell_type": "code",
   "execution_count": 3,
   "id": "8c7aa4ad-ec1b-47cc-aed9-499ce83927cf",
   "metadata": {},
   "outputs": [
    {
     "data": {
      "text/html": [
       "<div>\n",
       "<style scoped>\n",
       "    .dataframe tbody tr th:only-of-type {\n",
       "        vertical-align: middle;\n",
       "    }\n",
       "\n",
       "    .dataframe tbody tr th {\n",
       "        vertical-align: top;\n",
       "    }\n",
       "\n",
       "    .dataframe thead th {\n",
       "        text-align: right;\n",
       "    }\n",
       "</style>\n",
       "<table border=\"1\" class=\"dataframe\">\n",
       "  <thead>\n",
       "    <tr style=\"text-align: right;\">\n",
       "      <th></th>\n",
       "      <th>number_of_articles</th>\n",
       "    </tr>\n",
       "    <tr>\n",
       "      <th>date</th>\n",
       "      <th></th>\n",
       "    </tr>\n",
       "  </thead>\n",
       "  <tbody>\n",
       "    <tr>\n",
       "      <th>2000-03-01</th>\n",
       "      <td>2</td>\n",
       "    </tr>\n",
       "    <tr>\n",
       "      <th>2003-07-15</th>\n",
       "      <td>1</td>\n",
       "    </tr>\n",
       "    <tr>\n",
       "      <th>2003-07-16</th>\n",
       "      <td>1</td>\n",
       "    </tr>\n",
       "    <tr>\n",
       "      <th>2003-07-21</th>\n",
       "      <td>1</td>\n",
       "    </tr>\n",
       "    <tr>\n",
       "      <th>2003-07-22</th>\n",
       "      <td>1</td>\n",
       "    </tr>\n",
       "  </tbody>\n",
       "</table>\n",
       "</div>"
      ],
      "text/plain": [
       "            number_of_articles\n",
       "date                          \n",
       "2000-03-01                   2\n",
       "2003-07-15                   1\n",
       "2003-07-16                   1\n",
       "2003-07-21                   1\n",
       "2003-07-22                   1"
      ]
     },
     "execution_count": 3,
     "metadata": {},
     "output_type": "execute_result"
    }
   ],
   "source": [
    "cur = con.cursor()\n",
    "\n",
    "articles_per_day = con.execute('select date, count(*) from article group by date order by date;')\n",
    "articles_per_day = list(articles_per_day)\n",
    "\n",
    "df = pd.DataFrame(articles_per_day, columns=['date', 'number_of_articles']).set_index('date')\n",
    "df.head()"
   ]
  },
  {
   "cell_type": "code",
   "execution_count": 4,
   "id": "2ead2ceb-4d50-425b-9816-5dfdfebb0ba7",
   "metadata": {},
   "outputs": [
    {
     "data": {
      "image/png": "[encoded data removed]",
      "text/plain": [
       "<Figure size 1080x288 with 1 Axes>"
      ]
     },
     "metadata": {
      "needs_background": "light"
     },
     "output_type": "display_data"
    }
   ],
   "source": [
    "df.plot(figsize=(15,4));"
   ]
  },
  {
   "cell_type": "code",
   "execution_count": 5,
   "id": "0d3a8520",
   "metadata": {},
   "outputs": [
    {
     "data": {
      "text/plain": [
       "67"
      ]
     },
     "execution_count": 5,
     "metadata": {},
     "output_type": "execute_result"
    }
   ],
   "source": [
    "# on 20 August 2020 Apple reaches $2 billion market cap\n",
    "\n",
    "articles = [*con.execute('select * from article where date=\"2020-08-19\";')]\n",
    "len(articles)"
   ]
  },
  {
   "cell_type": "code",
   "execution_count": 6,
   "id": "7c8e3b94-ad23-4400-8da6-bdeb9ecce6cf",
   "metadata": {},
   "outputs": [],
   "source": [
    "con.close()"
   ]
  },
  {
   "cell_type": "code",
   "execution_count": null,
   "id": "8d7b6c7b-64e6-4caf-92e2-dbde31668a22",
   "metadata": {},
   "outputs": [],
   "source": [
    "df = pd.DataFrame(articles, columns=['idx', 'title', 'text', 'href', 'date']).drop(columns='idx')\n",
    "df.head()"
   ]
  },
  {
   "cell_type": "code",
   "execution_count": null,
   "id": "f2ec5e0f",
   "metadata": {},
   "outputs": [],
   "source": [
    "mask = df.title.str.contains(\"Apple\")\n",
    "for row in df[mask].itertuples():\n",
    "    print(row.Index, row.title)"
   ]
  },
  {
   "cell_type": "code",
   "execution_count": null,
   "id": "549f4d02",
   "metadata": {},
   "outputs": [],
   "source": [
    "print(df.loc[2,'text'])"
   ]
  },
  {
   "cell_type": "code",
   "execution_count": null,
   "id": "4d7ff108",
   "metadata": {},
   "outputs": [],
   "source": [
    "len(df.loc[2,'text'].split())"
   ]
  },
  {
   "cell_type": "code",
   "execution_count": null,
   "id": "ce0674ea",
   "metadata": {},
   "outputs": [],
   "source": [
    "df['text_size'] = df['text'].apply(lambda x: len(x.split()))\n",
    "df.head()"
   ]
  },
  {
   "cell_type": "code",
   "execution_count": null,
   "id": "4037ce55",
   "metadata": {},
   "outputs": [],
   "source": [
    "df.sort_values(by='text_size', ascending=False)"
   ]
  },
  {
   "cell_type": "code",
   "execution_count": null,
   "id": "364a1bb0",
   "metadata": {},
   "outputs": [],
   "source": [
    "df['text_size'].hist();"
   ]
  },
  {
   "cell_type": "code",
   "execution_count": null,
   "id": "26bf0643",
   "metadata": {},
   "outputs": [],
   "source": [
    "finbert = BertForSequenceClassification.from_pretrained('yiyanghkust/finbert-tone',num_labels=3)\n",
    "tokenizer = BertTokenizer.from_pretrained('yiyanghkust/finbert-tone')\n",
    "\n",
    "nlp = pipeline(\"sentiment-analysis\", model=finbert, tokenizer=tokenizer)"
   ]
  },
  {
   "cell_type": "code",
   "execution_count": null,
   "id": "9289bad9",
   "metadata": {},
   "outputs": [],
   "source": [
    "sentences = [\"there is a shortage of capital, and we need extra financing\",  \n",
    "             \"growth is strong but we do not have liquidity\", \n",
    "             \"there are doubts about our finances\", \n",
    "             \"profits are flat\"]\n",
    "results = nlp(sentences)\n",
    "print(results)"
   ]
  },
  {
   "cell_type": "code",
   "execution_count": null,
   "id": "703f9c7c",
   "metadata": {},
   "outputs": [],
   "source": [
    "results"
   ]
  },
  {
   "cell_type": "code",
   "execution_count": null,
   "id": "55201d96",
   "metadata": {},
   "outputs": [],
   "source": [
    "token = df.sample()\n",
    "token"
   ]
  },
  {
   "cell_type": "code",
   "execution_count": null,
   "id": "79005ccb",
   "metadata": {},
   "outputs": [],
   "source": [
    "token = [token.title.item(), token.text.item()]\n",
    "token"
   ]
  },
  {
   "cell_type": "code",
   "execution_count": null,
   "id": "02f1fd79",
   "metadata": {},
   "outputs": [],
   "source": [
    "results = nlp(token)\n",
    "print(results)"
   ]
  },
  {
   "cell_type": "code",
   "execution_count": null,
   "id": "7c56d888",
   "metadata": {},
   "outputs": [],
   "source": [
    "print(token[1])"
   ]
  },
  {
   "cell_type": "code",
   "execution_count": null,
   "id": "247ee669",
   "metadata": {},
   "outputs": [],
   "source": [
    "df.loc[64]['href']"
   ]
  },
  {
   "cell_type": "code",
   "execution_count": null,
   "id": "a927ecf6",
   "metadata": {},
   "outputs": [],
   "source": [
    "nlp(\"These stocks performed best in May as the market rally continued\")"
   ]
  },
  {
   "cell_type": "code",
   "execution_count": null,
   "id": "45cb17d7",
   "metadata": {},
   "outputs": [],
   "source": []
  }
 ],
 "metadata": {
  "kernelspec": {
   "display_name": "Python 3 (ipykernel)",
   "language": "python",
   "name": "python3"
  },
  "language_info": {
   "codemirror_mode": {
    "name": "ipython",
    "version": 3
   },
   "file_extension": ".py",
   "mimetype": "text/x-python",
   "name": "python",
   "nbconvert_exporter": "python",
   "pygments_lexer": "ipython3",
   "version": "3.9.5"
  }
 },
 "nbformat": 4,
 "nbformat_minor": 5
}
