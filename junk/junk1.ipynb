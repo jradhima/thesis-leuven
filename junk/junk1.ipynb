{
 "cells": [
  {
   "cell_type": "code",
   "execution_count": 1,
   "id": "46e337e1-84ab-4e7c-904c-0f9bc220f13a",
   "metadata": {},
   "outputs": [],
   "source": [
    "from transformers import BertTokenizer, BertForSequenceClassification\n",
    "from transformers import pipeline\n",
    "\n",
    "finbert = BertForSequenceClassification.from_pretrained('yiyanghkust/finbert-tone',num_labels=3)\n",
    "tokenizer = BertTokenizer.from_pretrained('yiyanghkust/finbert-tone')"
   ]
  },
  {
   "cell_type": "code",
   "execution_count": 2,
   "id": "5fe91d6c-dc05-476c-a576-b8c1ec4a9117",
   "metadata": {},
   "outputs": [
    {
     "data": {
      "text/plain": [
       "SequenceClassifierOutput(loss=None, logits=tensor([[-5.7988,  9.8551, -4.0002]], grad_fn=<AddmmBackward>), hidden_states=None, attentions=None)"
      ]
     },
     "execution_count": 2,
     "metadata": {},
     "output_type": "execute_result"
    }
   ],
   "source": [
    "token = tokenizer.encode('this is amazing awesome job man', return_tensors='pt')\n",
    "finbert(token)"
   ]
  },
  {
   "cell_type": "code",
   "execution_count": 3,
   "id": "101686a2-23c0-46a9-8775-b2d4899c4b45",
   "metadata": {},
   "outputs": [
    {
     "data": {
      "text/plain": [
       "SequenceClassifierOutput(loss=None, logits=tensor([[-3.1357, -1.7657,  8.2809]], grad_fn=<AddmmBackward>), hidden_states=None, attentions=None)"
      ]
     },
     "execution_count": 3,
     "metadata": {},
     "output_type": "execute_result"
    }
   ],
   "source": [
    "token = tokenizer.encode('this is depressing such a bad experience never again', return_tensors='pt')\n",
    "finbert(token)"
   ]
  },
  {
   "cell_type": "code",
   "execution_count": 4,
   "id": "5344665b-0e30-491e-bfaf-4be12b546f91",
   "metadata": {},
   "outputs": [
    {
     "data": {
      "text/plain": [
       "SequenceClassifierOutput(loss=None, logits=tensor([[ 6.0078, -4.8922, -3.1984]], grad_fn=<AddmmBackward>), hidden_states=None, attentions=None)"
      ]
     },
     "execution_count": 4,
     "metadata": {},
     "output_type": "execute_result"
    }
   ],
   "source": [
    "token = tokenizer.encode('the sky is blue', return_tensors='pt')\n",
    "finbert(token)"
   ]
  },
  {
   "cell_type": "code",
   "execution_count": 6,
   "id": "95ec2620-a6b0-4f50-a3e0-19bc64a9a831",
   "metadata": {},
   "outputs": [],
   "source": [
    "token = tokenizer.encode('the sky is blue ' * 200, return_tensors='pt', max_length=512, truncation=True)\n",
    "result = finbert(token)"
   ]
  },
  {
   "cell_type": "code",
   "execution_count": 14,
   "id": "cf44ea4f-4230-48a0-94b3-c63107492175",
   "metadata": {},
   "outputs": [],
   "source": [
    "import torch"
   ]
  },
  {
   "cell_type": "code",
   "execution_count": 22,
   "id": "8f049ab5-7343-4ffc-a117-e844295aa76f",
   "metadata": {},
   "outputs": [
    {
     "data": {
      "text/plain": [
       "0.0003381116839591414"
      ]
     },
     "execution_count": 22,
     "metadata": {},
     "output_type": "execute_result"
    }
   ],
   "source": [
    "(torch.nn.functional.softmax(result[0], dim=-1) @ torch.tensor([0, 1, -1]).float()).item()"
   ]
  }
 ],
 "metadata": {
  "kernelspec": {
   "display_name": "Python 3 (ipykernel)",
   "language": "python",
   "name": "python3"
  },
  "language_info": {
   "codemirror_mode": {
    "name": "ipython",
    "version": 3
   },
   "file_extension": ".py",
   "mimetype": "text/x-python",
   "name": "python",
   "nbconvert_exporter": "python",
   "pygments_lexer": "ipython3",
   "version": "3.9.5"
  }
 },
 "nbformat": 4,
 "nbformat_minor": 5
}
