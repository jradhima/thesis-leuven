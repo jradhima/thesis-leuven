{
 "cells": [
  {
   "cell_type": "code",
   "execution_count": 1,
   "id": "c4d9bc74-c992-4f9e-b35a-bdec9ab85314",
   "metadata": {},
   "outputs": [],
   "source": [
    "import stanza\n",
    "import pandas as pd"
   ]
  },
  {
   "cell_type": "code",
   "execution_count": 2,
   "id": "26619bb0-c2c0-4840-8856-2bbec560317e",
   "metadata": {
    "collapsed": true,
    "jupyter": {
     "outputs_hidden": true
    },
    "tags": []
   },
   "outputs": [
    {
     "name": "stderr",
     "output_type": "stream",
     "text": [
      "2022-03-30 13:41:32 INFO: Loading these models for language: en (English):\n",
      "========================\n",
      "| Processor | Package  |\n",
      "------------------------\n",
      "| tokenize  | combined |\n",
      "| sentiment | sstplus  |\n",
      "========================\n",
      "\n",
      "2022-03-30 13:41:32 INFO: Use device: cpu\n",
      "2022-03-30 13:41:32 INFO: Loading: tokenize\n",
      "2022-03-30 13:41:32 INFO: Loading: sentiment\n",
      "2022-03-30 13:41:33 INFO: Done loading processors!\n"
     ]
    },
    {
     "data": {
      "text/html": [
       "<div>\n",
       "<style scoped>\n",
       "    .dataframe tbody tr th:only-of-type {\n",
       "        vertical-align: middle;\n",
       "    }\n",
       "\n",
       "    .dataframe tbody tr th {\n",
       "        vertical-align: top;\n",
       "    }\n",
       "\n",
       "    .dataframe thead th {\n",
       "        text-align: right;\n",
       "    }\n",
       "</style>\n",
       "<table border=\"1\" class=\"dataframe\">\n",
       "  <thead>\n",
       "    <tr style=\"text-align: right;\">\n",
       "      <th></th>\n",
       "      <th>title</th>\n",
       "      <th>text</th>\n",
       "      <th>href</th>\n",
       "      <th>date</th>\n",
       "      <th>text_size</th>\n",
       "      <th>HKUST_title</th>\n",
       "      <th>HKUST_text</th>\n",
       "      <th>PROSUS_title</th>\n",
       "      <th>PROSUS_text</th>\n",
       "    </tr>\n",
       "  </thead>\n",
       "  <tbody>\n",
       "    <tr>\n",
       "      <th>1496</th>\n",
       "      <td>Brown-Forman stock slips after profit misses o...</td>\n",
       "      <td>Shares of Jack Daniels parent Brown-Forman Cor...</td>\n",
       "      <td>https://www.marketwatch.com/story/brown-forman...</td>\n",
       "      <td>2020-12-08</td>\n",
       "      <td>153</td>\n",
       "      <td>-0.999502</td>\n",
       "      <td>0.985009</td>\n",
       "      <td>-0.973591</td>\n",
       "      <td>-0.973772</td>\n",
       "    </tr>\n",
       "    <tr>\n",
       "      <th>1498</th>\n",
       "      <td>This analysis of Wall Street stock ratings is ...</td>\n",
       "      <td>In the financial media, “Wall Street” typicall...</td>\n",
       "      <td>https://www.marketwatch.com/story/this-analysi...</td>\n",
       "      <td>2020-09-07</td>\n",
       "      <td>272</td>\n",
       "      <td>0.000000</td>\n",
       "      <td>0.000000</td>\n",
       "      <td>0.000000</td>\n",
       "      <td>0.000000</td>\n",
       "    </tr>\n",
       "    <tr>\n",
       "      <th>1499</th>\n",
       "      <td>These 74 stocks in the S&amp;P 500 hit all-time re...</td>\n",
       "      <td>U.S. stocks staged a broad rally Wednesday as ...</td>\n",
       "      <td>https://www.marketwatch.com/story/these-74-sto...</td>\n",
       "      <td>2020-09-03</td>\n",
       "      <td>206</td>\n",
       "      <td>0.991664</td>\n",
       "      <td>0.000000</td>\n",
       "      <td>0.794795</td>\n",
       "      <td>0.000000</td>\n",
       "    </tr>\n",
       "    <tr>\n",
       "      <th>1500</th>\n",
       "      <td>Brown-Forman's stock slips, although earnings ...</td>\n",
       "      <td>Shares of Jack Daniel's parent Brown-Forman Co...</td>\n",
       "      <td>https://www.marketwatch.com/story/brown-forman...</td>\n",
       "      <td>2020-09-02</td>\n",
       "      <td>192</td>\n",
       "      <td>-0.999107</td>\n",
       "      <td>0.956672</td>\n",
       "      <td>-0.959359</td>\n",
       "      <td>-0.940531</td>\n",
       "    </tr>\n",
       "    <tr>\n",
       "      <th>1502</th>\n",
       "      <td>Brown-Forman's stock gains after sales beat, a...</td>\n",
       "      <td>Shares of Brown-Forman Corp. BF.A,\\n+0.38%\\ned...</td>\n",
       "      <td>https://www.marketwatch.com/story/brown-forman...</td>\n",
       "      <td>2020-06-09</td>\n",
       "      <td>190</td>\n",
       "      <td>1.000000</td>\n",
       "      <td>-0.898049</td>\n",
       "      <td>0.954016</td>\n",
       "      <td>-0.970586</td>\n",
       "    </tr>\n",
       "  </tbody>\n",
       "</table>\n",
       "</div>"
      ],
      "text/plain": [
       "                                                  title  \\\n",
       "1496  Brown-Forman stock slips after profit misses o...   \n",
       "1498  This analysis of Wall Street stock ratings is ...   \n",
       "1499  These 74 stocks in the S&P 500 hit all-time re...   \n",
       "1500  Brown-Forman's stock slips, although earnings ...   \n",
       "1502  Brown-Forman's stock gains after sales beat, a...   \n",
       "\n",
       "                                                   text  \\\n",
       "1496  Shares of Jack Daniels parent Brown-Forman Cor...   \n",
       "1498  In the financial media, “Wall Street” typicall...   \n",
       "1499  U.S. stocks staged a broad rally Wednesday as ...   \n",
       "1500  Shares of Jack Daniel's parent Brown-Forman Co...   \n",
       "1502  Shares of Brown-Forman Corp. BF.A,\\n+0.38%\\ned...   \n",
       "\n",
       "                                                   href       date  text_size  \\\n",
       "1496  https://www.marketwatch.com/story/brown-forman... 2020-12-08        153   \n",
       "1498  https://www.marketwatch.com/story/this-analysi... 2020-09-07        272   \n",
       "1499  https://www.marketwatch.com/story/these-74-sto... 2020-09-03        206   \n",
       "1500  https://www.marketwatch.com/story/brown-forman... 2020-09-02        192   \n",
       "1502  https://www.marketwatch.com/story/brown-forman... 2020-06-09        190   \n",
       "\n",
       "      HKUST_title  HKUST_text  PROSUS_title  PROSUS_text  \n",
       "1496    -0.999502    0.985009     -0.973591    -0.973772  \n",
       "1498     0.000000    0.000000      0.000000     0.000000  \n",
       "1499     0.991664    0.000000      0.794795     0.000000  \n",
       "1500    -0.999107    0.956672     -0.959359    -0.940531  \n",
       "1502     1.000000   -0.898049      0.954016    -0.970586  "
      ]
     },
     "execution_count": 2,
     "metadata": {},
     "output_type": "execute_result"
    }
   ],
   "source": [
    "nlp = stanza.Pipeline(lang='en', processors='tokenize,sentiment')\n",
    "\n",
    "articles = pd.read_json('articles_with_sentiment.json')\n",
    "articles.head()"
   ]
  },
  {
   "cell_type": "code",
   "execution_count": 12,
   "id": "5d677eb2-3c71-47e7-9dd0-49cace36d263",
   "metadata": {},
   "outputs": [],
   "source": [
    "def extract_sentiment(text):\n",
    "    doc = nlp(text)\n",
    "    if len(doc.sentences) == 1:\n",
    "        return doc.sentences[0].sentiment - 1\n",
    "    else:\n",
    "        sentiment = 0\n",
    "        for sentence in doc.sentences:\n",
    "            sentiment += sentence.sentiment\n",
    "        return sentiment / len(doc.sentences) - 1"
   ]
  },
  {
   "cell_type": "code",
   "execution_count": 31,
   "id": "2997fc1d-d40e-4783-a7f1-742d391d5387",
   "metadata": {},
   "outputs": [
    {
     "data": {
      "text/plain": [
       "('Google forcefully rebukes U.S. antitrust lawsuit in first legal response',\n",
       " 'In its first response to a Justice Department lawsuit in October that accuses the company of antitrust violations, Google filed a forceful rebuke, saying it “developed, continually innovated and promoted” its search product as part of its mission to “organize the world’s information and make it universally accessible and useful.”\\nThe filing, Google’s GOOG,\\n+0.39%\\nmost significant amid three antitrust suits in recent weeks, offered an aggressive blueprint for its legal defense in a case that is likely to stretch for years. (Amit Mehta, the federal judge hearing the case, last week said the trial would not start until 2023.)\\n“People use Google Search because they choose to, not because they are forced to or because they cannot easily find alternative ways to search for information on the internet,” the company said in a defiant 42-page filing. The company’s denial of the claims was granular, often offering sentence-by-sentence replies.\\nGoogle’s detailed response to the Justice Department suit is part of a multipronged legal strategy as the search-engine power fends off three suits.\\nOn Wednesday, the Texas Attorney General and other Republican AGs filed a lawsuit that claims Google broke the law to obtain and protect a monopoly over the technology that delivers ads across the internet.\\nThe following day, a bipartisan coalition of AGs led by Colorado and Nebraska expanded on accusations about Google’s search-engine business made by the Justice Department. The suit seeks to combine cases with the federal lawsuit.\\n')"
      ]
     },
     "execution_count": 31,
     "metadata": {},
     "output_type": "execute_result"
    }
   ],
   "source": [
    "sample = articles.sample()\n",
    "sample.title.item(), sample.text.item()"
   ]
  },
  {
   "cell_type": "code",
   "execution_count": 38,
   "id": "580af306-83e0-485d-b309-b69cba5bf42b",
   "metadata": {},
   "outputs": [
    {
     "name": "stdout",
     "output_type": "stream",
     "text": [
      "Article title sentiment is -1\n",
      "Article text sentiment is -0.33333333333333337\n"
     ]
    }
   ],
   "source": [
    "print('Article title sentiment is', \n",
    "      extract_sentiment(sample.title.item()))\n",
    "\n",
    "print('Article text sentiment is',\n",
    "      extract_sentiment(sample.text.item()))"
   ]
  },
  {
   "cell_type": "code",
   "execution_count": 40,
   "id": "5fc7a7c7-83b5-4a9e-b6b4-48da9fd6fc89",
   "metadata": {},
   "outputs": [
    {
     "data": {
      "text/plain": [
       "'https://www.marketwatch.com/story/google-forcefully-rebukes-u-s-antitrust-lawsuit-in-first-legal-response-11608655547'"
      ]
     },
     "execution_count": 40,
     "metadata": {},
     "output_type": "execute_result"
    }
   ],
   "source": [
    "sample.href.item()"
   ]
  }
 ],
 "metadata": {
  "kernelspec": {
   "display_name": "Python 3 (ipykernel)",
   "language": "python",
   "name": "python3"
  },
  "language_info": {
   "codemirror_mode": {
    "name": "ipython",
    "version": 3
   },
   "file_extension": ".py",
   "mimetype": "text/x-python",
   "name": "python",
   "nbconvert_exporter": "python",
   "pygments_lexer": "ipython3",
   "version": "3.9.5"
  }
 },
 "nbformat": 4,
 "nbformat_minor": 5
}
