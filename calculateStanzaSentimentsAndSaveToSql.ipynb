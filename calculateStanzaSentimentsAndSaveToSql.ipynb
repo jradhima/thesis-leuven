{
 "cells": [
  {
   "cell_type": "code",
   "execution_count": 1,
   "id": "9d5574a7-ce42-420a-987f-5af2f7b5cefc",
   "metadata": {},
   "outputs": [],
   "source": [
    "import pandas as pd\n",
    "import sqlite3\n",
    "import re\n",
    "import matplotlib.pyplot as plt\n",
    "\n",
    "import stanza\n",
    "\n",
    "from tqdm.notebook import tqdm\n",
    "tqdm.pandas()"
   ]
  },
  {
   "cell_type": "code",
   "execution_count": 2,
   "id": "03722e37-c18f-4aed-a717-094a79f37327",
   "metadata": {},
   "outputs": [],
   "source": [
    "con = sqlite3.connect('data.db')\n",
    "\n",
    "cur = con.cursor()\n",
    "\n",
    "query = \"\"\"SELECT * FROM article\n",
    "            WHERE text NOT LIKE '%Automated Insights%';\n",
    "        \"\"\"\n",
    "\n",
    "articles = [*cur.execute(query)]\n",
    "\n",
    "con.close()"
   ]
  },
  {
   "cell_type": "code",
   "execution_count": 20,
   "id": "49a6468f-edc6-45a9-aa10-5f626e9ce748",
   "metadata": {},
   "outputs": [
    {
     "data": {
      "text/plain": [
       "210378"
      ]
     },
     "execution_count": 20,
     "metadata": {},
     "output_type": "execute_result"
    }
   ],
   "source": [
    "len(articles)"
   ]
  },
  {
   "cell_type": "code",
   "execution_count": 50,
   "id": "a701ac1d-6d08-4d25-9e4f-4d98286f6c54",
   "metadata": {},
   "outputs": [],
   "source": [
    "df = pd.DataFrame(articles, columns = ['id', 'title', 'body', 'href', 'date']).set_index('id')\n",
    "\n",
    "df['size'] = df['body'].apply(lambda x: len(x.split()))\n",
    "\n",
    "df['date'] = pd.to_datetime(df['date'], infer_datetime_format=True)\n",
    "\n",
    "mask = (df['size'] > 50) & (df['size'] < 750)\n",
    "df = df[mask]\n",
    "\n",
    "df = df[(df['date'] >= '2018-01-01') & (df['date'] < '2021-01-01') & (df['date'].dt.weekday < 5)]"
   ]
  },
  {
   "cell_type": "markdown",
   "id": "c56382cc-e8f2-4a17-932e-5702418cc5ee",
   "metadata": {},
   "source": [
    "# df now represents all articles after 01/01/2007, during weekdays, non-automated, over 50 words"
   ]
  },
  {
   "cell_type": "code",
   "execution_count": 4,
   "id": "6595ab10-a36c-4ff2-b516-82afb302aad8",
   "metadata": {},
   "outputs": [
    {
     "name": "stderr",
     "output_type": "stream",
     "text": [
      "2022-07-21 17:03:17 INFO: Loading these models for language: en (English):\n",
      "========================\n",
      "| Processor | Package  |\n",
      "------------------------\n",
      "| tokenize  | combined |\n",
      "| sentiment | sstplus  |\n",
      "========================\n",
      "\n",
      "2022-07-21 17:03:17 INFO: Use device: cpu\n",
      "2022-07-21 17:03:17 INFO: Loading: tokenize\n",
      "2022-07-21 17:03:17 INFO: Loading: sentiment\n",
      "2022-07-21 17:03:17 INFO: Done loading processors!\n"
     ]
    }
   ],
   "source": [
    "nlp = stanza.Pipeline(lang='en', processors='tokenize,sentiment')"
   ]
  },
  {
   "cell_type": "code",
   "execution_count": 3,
   "id": "ef2819a6-5dec-4e68-8079-5ecdd9c5b646",
   "metadata": {},
   "outputs": [],
   "source": [
    "# this extracts sentiment on a sentence level and returns the average over all of them\n",
    "\n",
    "def extract_sentiment(text):\n",
    "    doc = nlp(text)\n",
    "    if len(doc.sentences) == 1:\n",
    "        return doc.sentences[0].sentiment - 1\n",
    "    else:\n",
    "        sentiment = 0\n",
    "        for sentence in doc.sentences:\n",
    "            sentiment += sentence.sentiment\n",
    "        return sentiment / len(doc.sentences) - 1"
   ]
  },
  {
   "cell_type": "code",
   "execution_count": null,
   "id": "b16bf9dd-b122-4dd0-be93-7a6fe9a956fa",
   "metadata": {},
   "outputs": [
    {
     "data": {
      "application/vnd.jupyter.widget-view+json": {
       "model_id": "5c5f6b298b5b4fe7aa1f098b997e423d",
       "version_major": 2,
       "version_minor": 0
      },
      "text/plain": [
       "HBox(children=(HTML(value=''), FloatProgress(value=0.0, max=37332.0), HTML(value='')))"
      ]
     },
     "metadata": {},
     "output_type": "display_data"
    }
   ],
   "source": [
    "df['stanza_title'] = df['title'].progress_apply(extract_sentiment)"
   ]
  },
  {
   "cell_type": "code",
   "execution_count": 2,
   "id": "3af236c2-ca82-4785-b134-fcfad7cffc5b",
   "metadata": {},
   "outputs": [
    {
     "data": {
      "text/html": [
       "<div>\n",
       "<style scoped>\n",
       "    .dataframe tbody tr th:only-of-type {\n",
       "        vertical-align: middle;\n",
       "    }\n",
       "\n",
       "    .dataframe tbody tr th {\n",
       "        vertical-align: top;\n",
       "    }\n",
       "\n",
       "    .dataframe thead th {\n",
       "        text-align: right;\n",
       "    }\n",
       "</style>\n",
       "<table border=\"1\" class=\"dataframe\">\n",
       "  <thead>\n",
       "    <tr style=\"text-align: right;\">\n",
       "      <th></th>\n",
       "      <th>title</th>\n",
       "      <th>body</th>\n",
       "      <th>href</th>\n",
       "      <th>date</th>\n",
       "      <th>size</th>\n",
       "      <th>stanza_title</th>\n",
       "    </tr>\n",
       "  </thead>\n",
       "  <tbody>\n",
       "    <tr>\n",
       "      <th>118</th>\n",
       "      <td>Barron’s Next 50: The Latest Changes to the Index</td>\n",
       "      <td>We review the Barron’s Next 50 periodically, m...</td>\n",
       "      <td>https://www.marketwatch.com/articles/barrons-n...</td>\n",
       "      <td>2018-07-02</td>\n",
       "      <td>128</td>\n",
       "      <td>0.0</td>\n",
       "    </tr>\n",
       "    <tr>\n",
       "      <th>158</th>\n",
       "      <td>The 3 Best Tech Stocks So Far This Year</td>\n",
       "      <td>August is over, Labor Day is here, and we’re c...</td>\n",
       "      <td>https://www.marketwatch.com/articles/best-tech...</td>\n",
       "      <td>2019-09-02</td>\n",
       "      <td>248</td>\n",
       "      <td>1.0</td>\n",
       "    </tr>\n",
       "    <tr>\n",
       "      <th>436</th>\n",
       "      <td>Google Stadia Doesn’t Look Like the Netflix of...</td>\n",
       "      <td>Gamers and investors got the clearest glimpse ...</td>\n",
       "      <td>https://www.marketwatch.com/articles/google-st...</td>\n",
       "      <td>2019-06-06</td>\n",
       "      <td>580</td>\n",
       "      <td>-1.0</td>\n",
       "    </tr>\n",
       "    <tr>\n",
       "      <th>437</th>\n",
       "      <td>Is Amazon Investing Enough in Autonomous Driving?</td>\n",
       "      <td>It’s time for (ticker: AMZN) to become a car c...</td>\n",
       "      <td>https://www.marketwatch.com/articles/is-amazon...</td>\n",
       "      <td>2018-09-25</td>\n",
       "      <td>525</td>\n",
       "      <td>0.0</td>\n",
       "    </tr>\n",
       "    <tr>\n",
       "      <th>866</th>\n",
       "      <td>Why Netflix Won’t Be Disrupted by New Competit...</td>\n",
       "      <td>As (ticker: AAPL) gets set to announce new str...</td>\n",
       "      <td>https://www.marketwatch.com/articles/netflix-w...</td>\n",
       "      <td>2019-03-25</td>\n",
       "      <td>496</td>\n",
       "      <td>-1.0</td>\n",
       "    </tr>\n",
       "  </tbody>\n",
       "</table>\n",
       "</div>"
      ],
      "text/plain": [
       "                                                 title  \\\n",
       "118  Barron’s Next 50: The Latest Changes to the Index   \n",
       "158            The 3 Best Tech Stocks So Far This Year   \n",
       "436  Google Stadia Doesn’t Look Like the Netflix of...   \n",
       "437  Is Amazon Investing Enough in Autonomous Driving?   \n",
       "866  Why Netflix Won’t Be Disrupted by New Competit...   \n",
       "\n",
       "                                                  body  \\\n",
       "118  We review the Barron’s Next 50 periodically, m...   \n",
       "158  August is over, Labor Day is here, and we’re c...   \n",
       "436  Gamers and investors got the clearest glimpse ...   \n",
       "437  It’s time for (ticker: AMZN) to become a car c...   \n",
       "866  As (ticker: AAPL) gets set to announce new str...   \n",
       "\n",
       "                                                  href       date  size  \\\n",
       "118  https://www.marketwatch.com/articles/barrons-n... 2018-07-02   128   \n",
       "158  https://www.marketwatch.com/articles/best-tech... 2019-09-02   248   \n",
       "436  https://www.marketwatch.com/articles/google-st... 2019-06-06   580   \n",
       "437  https://www.marketwatch.com/articles/is-amazon... 2018-09-25   525   \n",
       "866  https://www.marketwatch.com/articles/netflix-w... 2019-03-25   496   \n",
       "\n",
       "     stanza_title  \n",
       "118           0.0  \n",
       "158           1.0  \n",
       "436          -1.0  \n",
       "437           0.0  \n",
       "866          -1.0  "
      ]
     },
     "execution_count": 2,
     "metadata": {},
     "output_type": "execute_result"
    }
   ],
   "source": [
    "#df = pd.read_json('temp_stanza.json')\n",
    "#df.head()"
   ]
  },
  {
   "cell_type": "code",
   "execution_count": 5,
   "id": "0e375754-3eef-401b-9073-2a0b903d7bc0",
   "metadata": {
    "tags": []
   },
   "outputs": [
    {
     "data": {
      "application/vnd.jupyter.widget-view+json": {
       "model_id": "d6267a8af9f64843bfaf711069e9b4df",
       "version_major": 2,
       "version_minor": 0
      },
      "text/plain": [
       "  0%|          | 0/37332 [00:00<?, ?it/s]"
      ]
     },
     "metadata": {},
     "output_type": "display_data"
    },
    {
     "name": "stderr",
     "output_type": "stream",
     "text": [
      "/home/jradhima/miniconda3/envs/thesis/lib/python3.9/site-packages/torch/nn/functional.py:652: UserWarning: Named tensors and all their associated APIs are an experimental feature and subject to change. Please do not use them for anything important until they are released as stable. (Triggered internally at  /opt/conda/conda-bld/pytorch_1623448222085/work/c10/core/TensorImpl.h:1156.)\n",
      "  return torch.max_pool1d(input, kernel_size, stride, padding, dilation, ceil_mode)\n"
     ]
    }
   ],
   "source": [
    "df['stanza_body'] = df['body'].progress_apply(extract_sentiment)"
   ]
  },
  {
   "cell_type": "code",
   "execution_count": 6,
   "id": "dc8421c8-894b-4aad-878e-c8657f889de9",
   "metadata": {},
   "outputs": [],
   "source": [
    "df.to_json('temp_stanza.json')"
   ]
  },
  {
   "cell_type": "code",
   "execution_count": 8,
   "id": "9d38b3db-00d8-4393-b3ee-14d66b04ac4f",
   "metadata": {},
   "outputs": [
    {
     "data": {
      "text/html": [
       "<div>\n",
       "<style scoped>\n",
       "    .dataframe tbody tr th:only-of-type {\n",
       "        vertical-align: middle;\n",
       "    }\n",
       "\n",
       "    .dataframe tbody tr th {\n",
       "        vertical-align: top;\n",
       "    }\n",
       "\n",
       "    .dataframe thead th {\n",
       "        text-align: right;\n",
       "    }\n",
       "</style>\n",
       "<table border=\"1\" class=\"dataframe\">\n",
       "  <thead>\n",
       "    <tr style=\"text-align: right;\">\n",
       "      <th></th>\n",
       "      <th>stanza_title</th>\n",
       "      <th>stanza_body</th>\n",
       "    </tr>\n",
       "  </thead>\n",
       "  <tbody>\n",
       "    <tr>\n",
       "      <th>stanza_title</th>\n",
       "      <td>1.00000</td>\n",
       "      <td>0.27737</td>\n",
       "    </tr>\n",
       "    <tr>\n",
       "      <th>stanza_body</th>\n",
       "      <td>0.27737</td>\n",
       "      <td>1.00000</td>\n",
       "    </tr>\n",
       "  </tbody>\n",
       "</table>\n",
       "</div>"
      ],
      "text/plain": [
       "              stanza_title  stanza_body\n",
       "stanza_title       1.00000      0.27737\n",
       "stanza_body        0.27737      1.00000"
      ]
     },
     "execution_count": 8,
     "metadata": {},
     "output_type": "execute_result"
    }
   ],
   "source": [
    "df[['stanza_title', 'stanza_body']].corr()"
   ]
  },
  {
   "cell_type": "code",
   "execution_count": 12,
   "id": "83d3e2a2-cf4c-4db5-b727-21c45cc09bda",
   "metadata": {},
   "outputs": [],
   "source": [
    "from transformers import BertForSequenceClassification, BertTokenizer\n",
    "from transformers import pipeline\n",
    "\n",
    "finbert = BertForSequenceClassification.from_pretrained('yiyanghkust/finbert-tone',num_labels=3)\n",
    "tokenizer = BertTokenizer.from_pretrained('yiyanghkust/finbert-tone')\n",
    "\n",
    "nlp = pipeline(\"sentiment-analysis\", model=finbert, tokenizer=tokenizer)"
   ]
  },
  {
   "cell_type": "code",
   "execution_count": 20,
   "id": "603fdeb0-658e-4f36-acfb-00be7b5dba60",
   "metadata": {},
   "outputs": [
    {
     "data": {
      "text/plain": [
       "'Positive'"
      ]
     },
     "execution_count": 20,
     "metadata": {},
     "output_type": "execute_result"
    }
   ],
   "source": [
    "nlp('hello')[0]['label']"
   ]
  },
  {
   "cell_type": "code",
   "execution_count": 63,
   "id": "0caa3de1-c24a-4fc7-9bce-234241ad27a8",
   "metadata": {},
   "outputs": [],
   "source": [
    "def bert_sentiment(text):\n",
    "    if len(text.split()) > 250:\n",
    "        text = ' '.join(text.split()[:250])\n",
    "    result = nlp(text)\n",
    "    if result[0]['label'] == 'Positive':\n",
    "        return result[0]['score']\n",
    "    elif result[0]['label'] == 'Negative':\n",
    "        return -result[0]['score']\n",
    "    return 0"
   ]
  },
  {
   "cell_type": "code",
   "execution_count": 27,
   "id": "45e321d3-b790-43a2-b0da-4e2487555fbd",
   "metadata": {},
   "outputs": [
    {
     "data": {
      "application/vnd.jupyter.widget-view+json": {
       "model_id": "52db1c73019945458245d0addf681076",
       "version_major": 2,
       "version_minor": 0
      },
      "text/plain": [
       "  0%|          | 0/37332 [00:00<?, ?it/s]"
      ]
     },
     "metadata": {},
     "output_type": "display_data"
    }
   ],
   "source": [
    "df['bert_title'] = df['title'].progress_apply(bert_sentiment)"
   ]
  },
  {
   "cell_type": "code",
   "execution_count": 66,
   "id": "8854be7a-859c-4ff4-89b0-d5add1d30f38",
   "metadata": {},
   "outputs": [],
   "source": [
    "import torch\n",
    "\n",
    "def bert_body(text):\n",
    "    token = tokenizer.encode(text, return_tensors='pt', max_length=512, truncation=True)\n",
    "    result = finbert(token)\n",
    "    return (torch.nn.functional.softmax(result[0], dim=-1) @ torch.tensor([0, 1, -1]).float()).item()"
   ]
  },
  {
   "cell_type": "code",
   "execution_count": 77,
   "id": "7c67d1cc-23d0-49ab-9a7b-34ba5b1b4301",
   "metadata": {},
   "outputs": [
    {
     "data": {
      "text/plain": [
       "0.04029202461242676"
      ]
     },
     "execution_count": 77,
     "metadata": {},
     "output_type": "execute_result"
    }
   ],
   "source": [
    "bert_body('just an experience')"
   ]
  },
  {
   "cell_type": "code",
   "execution_count": 78,
   "id": "d39ac284-216e-4482-928e-81ecc52d293d",
   "metadata": {},
   "outputs": [
    {
     "data": {
      "application/vnd.jupyter.widget-view+json": {
       "model_id": "df834102b133444d9abba49ab5892e6f",
       "version_major": 2,
       "version_minor": 0
      },
      "text/plain": [
       "  0%|          | 0/37332 [00:00<?, ?it/s]"
      ]
     },
     "metadata": {},
     "output_type": "display_data"
    }
   ],
   "source": [
    "df['bert_body'] = df['body'].progress_apply(bert_body)"
   ]
  },
  {
   "cell_type": "code",
   "execution_count": 79,
   "id": "18e43c70-4219-4049-a001-26429b535892",
   "metadata": {},
   "outputs": [],
   "source": [
    "df.to_json('temp_stanza.json')"
   ]
  },
  {
   "cell_type": "code",
   "execution_count": 80,
   "id": "e0084baf-2324-4d76-ba13-90b077424834",
   "metadata": {},
   "outputs": [
    {
     "data": {
      "text/html": [
       "<div>\n",
       "<style scoped>\n",
       "    .dataframe tbody tr th:only-of-type {\n",
       "        vertical-align: middle;\n",
       "    }\n",
       "\n",
       "    .dataframe tbody tr th {\n",
       "        vertical-align: top;\n",
       "    }\n",
       "\n",
       "    .dataframe thead th {\n",
       "        text-align: right;\n",
       "    }\n",
       "</style>\n",
       "<table border=\"1\" class=\"dataframe\">\n",
       "  <thead>\n",
       "    <tr style=\"text-align: right;\">\n",
       "      <th></th>\n",
       "      <th>title</th>\n",
       "      <th>body</th>\n",
       "      <th>href</th>\n",
       "      <th>date</th>\n",
       "      <th>size</th>\n",
       "      <th>stanza_title</th>\n",
       "      <th>stanza_body</th>\n",
       "      <th>bert_title</th>\n",
       "      <th>bert_body</th>\n",
       "    </tr>\n",
       "  </thead>\n",
       "  <tbody>\n",
       "    <tr>\n",
       "      <th>118</th>\n",
       "      <td>Barron’s Next 50: The Latest Changes to the Index</td>\n",
       "      <td>We review the Barron’s Next 50 periodically, m...</td>\n",
       "      <td>https://www.marketwatch.com/articles/barrons-n...</td>\n",
       "      <td>2018-07-02</td>\n",
       "      <td>128</td>\n",
       "      <td>0.0</td>\n",
       "      <td>0.117647</td>\n",
       "      <td>0.000000</td>\n",
       "      <td>0.000017</td>\n",
       "    </tr>\n",
       "    <tr>\n",
       "      <th>158</th>\n",
       "      <td>The 3 Best Tech Stocks So Far This Year</td>\n",
       "      <td>August is over, Labor Day is here, and we’re c...</td>\n",
       "      <td>https://www.marketwatch.com/articles/best-tech...</td>\n",
       "      <td>2019-09-02</td>\n",
       "      <td>248</td>\n",
       "      <td>1.0</td>\n",
       "      <td>-0.066667</td>\n",
       "      <td>0.999997</td>\n",
       "      <td>0.999988</td>\n",
       "    </tr>\n",
       "    <tr>\n",
       "      <th>436</th>\n",
       "      <td>Google Stadia Doesn’t Look Like the Netflix of...</td>\n",
       "      <td>Gamers and investors got the clearest glimpse ...</td>\n",
       "      <td>https://www.marketwatch.com/articles/google-st...</td>\n",
       "      <td>2019-06-06</td>\n",
       "      <td>580</td>\n",
       "      <td>-1.0</td>\n",
       "      <td>-0.222222</td>\n",
       "      <td>0.000000</td>\n",
       "      <td>-0.000015</td>\n",
       "    </tr>\n",
       "    <tr>\n",
       "      <th>437</th>\n",
       "      <td>Is Amazon Investing Enough in Autonomous Driving?</td>\n",
       "      <td>It’s time for (ticker: AMZN) to become a car c...</td>\n",
       "      <td>https://www.marketwatch.com/articles/is-amazon...</td>\n",
       "      <td>2018-09-25</td>\n",
       "      <td>525</td>\n",
       "      <td>0.0</td>\n",
       "      <td>-0.071429</td>\n",
       "      <td>0.000000</td>\n",
       "      <td>0.006267</td>\n",
       "    </tr>\n",
       "    <tr>\n",
       "      <th>866</th>\n",
       "      <td>Why Netflix Won’t Be Disrupted by New Competit...</td>\n",
       "      <td>As (ticker: AAPL) gets set to announce new str...</td>\n",
       "      <td>https://www.marketwatch.com/articles/netflix-w...</td>\n",
       "      <td>2019-03-25</td>\n",
       "      <td>496</td>\n",
       "      <td>-1.0</td>\n",
       "      <td>0.000000</td>\n",
       "      <td>-0.979412</td>\n",
       "      <td>-0.000136</td>\n",
       "    </tr>\n",
       "  </tbody>\n",
       "</table>\n",
       "</div>"
      ],
      "text/plain": [
       "                                                 title  \\\n",
       "118  Barron’s Next 50: The Latest Changes to the Index   \n",
       "158            The 3 Best Tech Stocks So Far This Year   \n",
       "436  Google Stadia Doesn’t Look Like the Netflix of...   \n",
       "437  Is Amazon Investing Enough in Autonomous Driving?   \n",
       "866  Why Netflix Won’t Be Disrupted by New Competit...   \n",
       "\n",
       "                                                  body  \\\n",
       "118  We review the Barron’s Next 50 periodically, m...   \n",
       "158  August is over, Labor Day is here, and we’re c...   \n",
       "436  Gamers and investors got the clearest glimpse ...   \n",
       "437  It’s time for (ticker: AMZN) to become a car c...   \n",
       "866  As (ticker: AAPL) gets set to announce new str...   \n",
       "\n",
       "                                                  href       date  size  \\\n",
       "118  https://www.marketwatch.com/articles/barrons-n... 2018-07-02   128   \n",
       "158  https://www.marketwatch.com/articles/best-tech... 2019-09-02   248   \n",
       "436  https://www.marketwatch.com/articles/google-st... 2019-06-06   580   \n",
       "437  https://www.marketwatch.com/articles/is-amazon... 2018-09-25   525   \n",
       "866  https://www.marketwatch.com/articles/netflix-w... 2019-03-25   496   \n",
       "\n",
       "     stanza_title  stanza_body  bert_title  bert_body  \n",
       "118           0.0     0.117647    0.000000   0.000017  \n",
       "158           1.0    -0.066667    0.999997   0.999988  \n",
       "436          -1.0    -0.222222    0.000000  -0.000015  \n",
       "437           0.0    -0.071429    0.000000   0.006267  \n",
       "866          -1.0     0.000000   -0.979412  -0.000136  "
      ]
     },
     "execution_count": 80,
     "metadata": {},
     "output_type": "execute_result"
    }
   ],
   "source": [
    "df.head()"
   ]
  },
  {
   "cell_type": "code",
   "execution_count": 115,
   "id": "3080ef45-883b-487f-a6de-05cc49538696",
   "metadata": {},
   "outputs": [],
   "source": [
    "from spacy.lang.en import English \n",
    "\n",
    "nlp = English()\n",
    "nlp.add_pipe('sentencizer')\n",
    "\n",
    "def split_in_sentences(text):\n",
    "    doc = nlp(text)\n",
    "    return [str(sent).strip() for sent in doc.sents]\n",
    "\n",
    "from vaderSentiment.vaderSentiment import SentimentIntensityAnalyzer\n",
    "senti = SentimentIntensityAnalyzer()\n",
    "\n",
    "def extract_vader(doc):\n",
    "    sentences = split_in_sentences(doc)\n",
    "    sentiment = 0\n",
    "    for sent in sentences:\n",
    "        sentiment += senti.polarity_scores(sent)['compound']\n",
    "    return sentiment / len(sentences)"
   ]
  },
  {
   "cell_type": "code",
   "execution_count": 120,
   "id": "5b42bb0d-1396-4431-a2a8-35f96e94cff9",
   "metadata": {},
   "outputs": [
    {
     "data": {
      "text/plain": [
       "-0.6801"
      ]
     },
     "execution_count": 120,
     "metadata": {},
     "output_type": "execute_result"
    }
   ],
   "source": [
    "extract_vader('hello this is just 1 sentence and its an aweful one it really sucks its the worse')"
   ]
  },
  {
   "cell_type": "code",
   "execution_count": 122,
   "id": "0a9f10b8-c913-40fe-8128-1e8f91975b76",
   "metadata": {},
   "outputs": [
    {
     "data": {
      "application/vnd.jupyter.widget-view+json": {
       "model_id": "0e55b665c6434f1a8f9920fef534aae9",
       "version_major": 2,
       "version_minor": 0
      },
      "text/plain": [
       "  0%|          | 0/37332 [00:00<?, ?it/s]"
      ]
     },
     "metadata": {},
     "output_type": "display_data"
    }
   ],
   "source": [
    "df['vader_title'] = df['title'].progress_apply(extract_vader)"
   ]
  },
  {
   "cell_type": "code",
   "execution_count": 123,
   "id": "99c8c740-e908-4d6c-b79d-a713fd22888f",
   "metadata": {},
   "outputs": [
    {
     "data": {
      "application/vnd.jupyter.widget-view+json": {
       "model_id": "474fd55c75f3499fb0d54b0aadb0ad5f",
       "version_major": 2,
       "version_minor": 0
      },
      "text/plain": [
       "  0%|          | 0/37332 [00:00<?, ?it/s]"
      ]
     },
     "metadata": {},
     "output_type": "display_data"
    }
   ],
   "source": [
    "df['vader_body'] = df['body'].progress_apply(extract_vader)"
   ]
  },
  {
   "cell_type": "code",
   "execution_count": 124,
   "id": "fa4c7771-db3c-4a9b-9740-7f7137cbd546",
   "metadata": {},
   "outputs": [],
   "source": [
    "df.to_json('temp_stanza.json')"
   ]
  },
  {
   "cell_type": "code",
   "execution_count": 131,
   "id": "c3a5f4c2-ba79-4fef-a447-8b392ed517d8",
   "metadata": {},
   "outputs": [],
   "source": [
    "from textblob import TextBlob\n",
    "\n",
    "#call the classifier\n",
    "def extract_textblob(doc):\n",
    "    sentences = split_in_sentences(doc)\n",
    "    sentiment = 0\n",
    "    for sent in sentences:\n",
    "        sentiment += TextBlob(sent).sentiment.polarity\n",
    "    return sentiment / len(sentences)"
   ]
  },
  {
   "cell_type": "code",
   "execution_count": 133,
   "id": "066d5b67-2110-4963-bfdb-3ac282a0fe31",
   "metadata": {},
   "outputs": [
    {
     "data": {
      "application/vnd.jupyter.widget-view+json": {
       "model_id": "d39cc193549e46cfb7b86beb4f480005",
       "version_major": 2,
       "version_minor": 0
      },
      "text/plain": [
       "  0%|          | 0/37332 [00:00<?, ?it/s]"
      ]
     },
     "metadata": {},
     "output_type": "display_data"
    }
   ],
   "source": [
    "df['textblob_title'] = df['title'].progress_apply(extract_textblob)"
   ]
  },
  {
   "cell_type": "code",
   "execution_count": 134,
   "id": "52db7327-d956-4bef-8e33-89626fbbbc4f",
   "metadata": {},
   "outputs": [
    {
     "data": {
      "application/vnd.jupyter.widget-view+json": {
       "model_id": "8e44ba98614e4d4c8fa7ca66979c4268",
       "version_major": 2,
       "version_minor": 0
      },
      "text/plain": [
       "  0%|          | 0/37332 [00:00<?, ?it/s]"
      ]
     },
     "metadata": {},
     "output_type": "display_data"
    }
   ],
   "source": [
    "df['textblob_body'] = df['body'].progress_apply(extract_textblob)"
   ]
  },
  {
   "cell_type": "code",
   "execution_count": 135,
   "id": "b3fa253c-aaf7-4cba-91ea-e230066a4bb7",
   "metadata": {},
   "outputs": [],
   "source": [
    "df.to_json('temp_stanza.json')"
   ]
  }
 ],
 "metadata": {
  "kernelspec": {
   "display_name": "Python 3 (ipykernel)",
   "language": "python",
   "name": "python3"
  },
  "language_info": {
   "codemirror_mode": {
    "name": "ipython",
    "version": 3
   },
   "file_extension": ".py",
   "mimetype": "text/x-python",
   "name": "python",
   "nbconvert_exporter": "python",
   "pygments_lexer": "ipython3",
   "version": "3.9.5"
  }
 },
 "nbformat": 4,
 "nbformat_minor": 5
}
