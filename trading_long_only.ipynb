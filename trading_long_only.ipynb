{
 "cells": [
  {
   "cell_type": "code",
   "execution_count": 1,
   "id": "1be828a5-0219-4230-b9b9-21cb24cdfbeb",
   "metadata": {},
   "outputs": [],
   "source": [
    "import pandas as pd\n",
    "import matplotlib.pyplot as plt\n",
    "import seaborn as sns\n",
    "sns.set_theme()\n",
    "\n",
    "import ast"
   ]
  },
  {
   "cell_type": "code",
   "execution_count": 2,
   "id": "53759796-bf6a-471b-974c-ce2832925e1c",
   "metadata": {},
   "outputs": [],
   "source": [
    "prices = pd.read_json('stock_prices.json')\n",
    "sentiments = pd.read_json('aligned_sentiments.json')\n",
    "\n",
    "indices = []\n",
    "\n",
    "for item in prices.columns.values:\n",
    "    indices.append(ast.literal_eval(item))\n",
    "    \n",
    "prices.columns = pd.MultiIndex.from_tuples(indices)\n",
    "\n",
    "indices = []\n",
    "\n",
    "for item in sentiments.columns.values:\n",
    "    indices.append(ast.literal_eval(item))\n",
    "    \n",
    "sentiments.columns = pd.MultiIndex.from_tuples(indices)"
   ]
  },
  {
   "cell_type": "code",
   "execution_count": 3,
   "id": "2cf6b539-710e-44a0-ae78-82218647b59b",
   "metadata": {},
   "outputs": [
    {
     "name": "stderr",
     "output_type": "stream",
     "text": [
      "/home/jradhima/miniconda3/envs/thesis/lib/python3.9/site-packages/pandas/core/frame.py:4308: SettingWithCopyWarning: \n",
      "A value is trying to be set on a copy of a slice from a DataFrame\n",
      "\n",
      "See the caveats in the documentation: https://pandas.pydata.org/pandas-docs/stable/user_guide/indexing.html#returning-a-view-versus-a-copy\n",
      "  return super().drop(\n"
     ]
    }
   ],
   "source": [
    "buy_prices = prices['Open']\n",
    "sell_prices = prices['Close']\n",
    "sent_df = sentiments['bert_body']\n",
    "missing_prices = list(buy_prices.isna().sum()[buy_prices.isna().sum() != 0].index)\n",
    "missing_prices.remove('OGN')\n",
    "\n",
    "\n",
    "buy_prices.drop(columns=missing_prices, inplace=True)\n",
    "sell_prices.drop(columns=missing_prices, inplace=True)\n",
    "sent_df.drop(columns=missing_prices, inplace=True)"
   ]
  },
  {
   "cell_type": "code",
   "execution_count": 4,
   "id": "2ed38cda-2d38-4a34-8114-82273a9f74e0",
   "metadata": {},
   "outputs": [
    {
     "data": {
      "text/plain": [
       "set()"
      ]
     },
     "execution_count": 4,
     "metadata": {},
     "output_type": "execute_result"
    }
   ],
   "source": [
    "set(sent_df.columns).intersection(set(missing_prices))"
   ]
  },
  {
   "cell_type": "code",
   "execution_count": 5,
   "id": "80c781aa-f114-4823-969d-e44340eaf587",
   "metadata": {},
   "outputs": [
    {
     "data": {
      "text/plain": [
       "set()"
      ]
     },
     "execution_count": 5,
     "metadata": {},
     "output_type": "execute_result"
    }
   ],
   "source": [
    "set(buy_prices.columns).intersection(set(missing_prices))"
   ]
  },
  {
   "cell_type": "code",
   "execution_count": 6,
   "id": "3ff4bb4f-5f65-47cf-ba41-6661ab07c48e",
   "metadata": {},
   "outputs": [
    {
     "data": {
      "text/plain": [
       "set()"
      ]
     },
     "execution_count": 6,
     "metadata": {},
     "output_type": "execute_result"
    }
   ],
   "source": [
    "set(sell_prices.columns).intersection(set(missing_prices))"
   ]
  },
  {
   "cell_type": "code",
   "execution_count": 7,
   "id": "b921bc49-9336-4d73-92f3-865e5e4ac78c",
   "metadata": {},
   "outputs": [],
   "source": [
    "largest_n = sent_df.apply(lambda x: pd.Series(x.nlargest(20).index), axis=1)"
   ]
  },
  {
   "cell_type": "code",
   "execution_count": 12,
   "id": "2a2470f3-f39b-4f97-a969-c6c63d5aeed1",
   "metadata": {},
   "outputs": [
    {
     "name": "stdout",
     "output_type": "stream",
     "text": [
      "0\n",
      "100\n",
      "200\n",
      "300\n",
      "400\n",
      "500\n",
      "600\n",
      "700\n"
     ]
    },
    {
     "data": {
      "text/plain": [
       "1.4084660186877282"
      ]
     },
     "execution_count": 12,
     "metadata": {},
     "output_type": "execute_result"
    }
   ],
   "source": [
    "days = len(largest_n.index)\n",
    "holding_days = 3\n",
    "n = 5\n",
    "capital = 1000000\n",
    "positions = {}\n",
    "final_capital = 0\n",
    "long_amounts = []\n",
    "\n",
    "for day in range(days):\n",
    "    if day % 100 == 0:\n",
    "        print(day)\n",
    "    if day < holding_days:\n",
    "        best = largest_n.iloc[day, :n].values\n",
    "        amount = capital / (holding_days * n)\n",
    "        long_amounts.append(amount)\n",
    "        long_positions = [(company, amount / buy_prices.iloc[day+1][company]) for company in best]\n",
    "        positions[day] = {'long': long_positions}\n",
    "    else:\n",
    "        days_long = sum([shares * sell_prices.iloc[day][company] \n",
    "                          for company, shares in positions[day - holding_days]['long']])\n",
    "        long_amounts.append(days_long/n)\n",
    "        if days - day <= holding_days:\n",
    "            final_capital += days_long\n",
    "        else:\n",
    "            best = largest_n.iloc[day, :n].values\n",
    "            amount = (days_long) / (n)\n",
    "            long_positions = [(company, amount / buy_prices.iloc[day+1][company]) for company in best]\n",
    "            positions[day] = {'long': long_positions}#, 'short': short_positions}\n",
    "final_capital / capital"
   ]
  },
  {
   "cell_type": "code",
   "execution_count": 13,
   "id": "6058699f-c9c8-4d9b-bbb4-24c307662ed9",
   "metadata": {},
   "outputs": [
    {
     "data": {
      "text/plain": [
       "[<matplotlib.lines.Line2D at 0x7fa00da92550>]"
      ]
     },
     "execution_count": 13,
     "metadata": {},
     "output_type": "execute_result"
    },
    {
     "data": {
      "image/png": "[encoded data removed]",
      "text/plain": [
       "<Figure size 432x288 with 1 Axes>"
      ]
     },
     "metadata": {},
     "output_type": "display_data"
    }
   ],
   "source": [
    "plt.plot(long_amounts)"
   ]
  }
 ],
 "metadata": {
  "kernelspec": {
   "display_name": "Python 3 (ipykernel)",
   "language": "python",
   "name": "python3"
  },
  "language_info": {
   "codemirror_mode": {
    "name": "ipython",
    "version": 3
   },
   "file_extension": ".py",
   "mimetype": "text/x-python",
   "name": "python",
   "nbconvert_exporter": "python",
   "pygments_lexer": "ipython3",
   "version": "3.9.5"
  }
 },
 "nbformat": 4,
 "nbformat_minor": 5
}
