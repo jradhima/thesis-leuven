{
 "cells": [
  {
   "cell_type": "code",
   "execution_count": 1,
   "id": "dc8d108d-2c61-4f7c-a57e-a8013f9d22d1",
   "metadata": {},
   "outputs": [],
   "source": [
    "from src.scrapers import article_scraper\n",
    "from src.model import main\n",
    "import pandas as pd\n",
    "from time import sleep"
   ]
  },
  {
   "cell_type": "code",
   "execution_count": 2,
   "id": "8028862c-398c-48b0-8567-f7ac20a42e14",
   "metadata": {},
   "outputs": [],
   "source": [
    "df = pd.read_json('data/AMZN.json')"
   ]
  },
  {
   "cell_type": "code",
   "execution_count": 3,
   "id": "9827b6e4-bae5-4b30-8994-622bb01bdb83",
   "metadata": {},
   "outputs": [
    {
     "data": {
      "text/html": [
       "<div>\n",
       "<style scoped>\n",
       "    .dataframe tbody tr th:only-of-type {\n",
       "        vertical-align: middle;\n",
       "    }\n",
       "\n",
       "    .dataframe tbody tr th {\n",
       "        vertical-align: top;\n",
       "    }\n",
       "\n",
       "    .dataframe thead th {\n",
       "        text-align: right;\n",
       "    }\n",
       "</style>\n",
       "<table border=\"1\" class=\"dataframe\">\n",
       "  <thead>\n",
       "    <tr style=\"text-align: right;\">\n",
       "      <th></th>\n",
       "      <th>href</th>\n",
       "      <th>title</th>\n",
       "      <th>dtime</th>\n",
       "      <th>ticker</th>\n",
       "    </tr>\n",
       "  </thead>\n",
       "  <tbody>\n",
       "    <tr>\n",
       "      <th>2246</th>\n",
       "      <td>https://www.marketwatch.com/story/congress-has...</td>\n",
       "      <td>Congress has a million-plus documents from Big...</td>\n",
       "      <td>2020-07-29T08:19:00</td>\n",
       "      <td>AMZN</td>\n",
       "    </tr>\n",
       "    <tr>\n",
       "      <th>8919</th>\n",
       "      <td>https://www.marketwatch.com/story/amazon-offer...</td>\n",
       "      <td>Amazon offering 20% Prime discount in lead up ...</td>\n",
       "      <td>2016-11-16T10:44:40</td>\n",
       "      <td>AMZN</td>\n",
       "    </tr>\n",
       "    <tr>\n",
       "      <th>2559</th>\n",
       "      <td>https://www.marketwatch.com/articles/dow-jones...</td>\n",
       "      <td>The Dow Slipped 109 Points Because Reopened Ec...</td>\n",
       "      <td>2020-05-11T17:41:00</td>\n",
       "      <td>AMZN</td>\n",
       "    </tr>\n",
       "  </tbody>\n",
       "</table>\n",
       "</div>"
      ],
      "text/plain": [
       "                                                   href  \\\n",
       "2246  https://www.marketwatch.com/story/congress-has...   \n",
       "8919  https://www.marketwatch.com/story/amazon-offer...   \n",
       "2559  https://www.marketwatch.com/articles/dow-jones...   \n",
       "\n",
       "                                                  title                dtime  \\\n",
       "2246  Congress has a million-plus documents from Big...  2020-07-29T08:19:00   \n",
       "8919  Amazon offering 20% Prime discount in lead up ...  2016-11-16T10:44:40   \n",
       "2559  The Dow Slipped 109 Points Because Reopened Ec...  2020-05-11T17:41:00   \n",
       "\n",
       "     ticker  \n",
       "2246   AMZN  \n",
       "8919   AMZN  \n",
       "2559   AMZN  "
      ]
     },
     "execution_count": 3,
     "metadata": {},
     "output_type": "execute_result"
    }
   ],
   "source": [
    "df.sample(3)"
   ]
  },
  {
   "cell_type": "code",
   "execution_count": 4,
   "id": "30e8b6a7-ad9d-4c8d-805c-d559e9720529",
   "metadata": {},
   "outputs": [],
   "source": [
    "df['date'] = df['dtime'].apply(lambda x: x.split('T')[0])"
   ]
  },
  {
   "cell_type": "code",
   "execution_count": 5,
   "id": "eb1a1dfe-c3f3-47f3-b9b9-6fd1b5037f31",
   "metadata": {},
   "outputs": [
    {
     "data": {
      "text/html": [
       "<div>\n",
       "<style scoped>\n",
       "    .dataframe tbody tr th:only-of-type {\n",
       "        vertical-align: middle;\n",
       "    }\n",
       "\n",
       "    .dataframe tbody tr th {\n",
       "        vertical-align: top;\n",
       "    }\n",
       "\n",
       "    .dataframe thead th {\n",
       "        text-align: right;\n",
       "    }\n",
       "</style>\n",
       "<table border=\"1\" class=\"dataframe\">\n",
       "  <thead>\n",
       "    <tr style=\"text-align: right;\">\n",
       "      <th></th>\n",
       "      <th>href</th>\n",
       "      <th>title</th>\n",
       "      <th>dtime</th>\n",
       "      <th>ticker</th>\n",
       "      <th>date</th>\n",
       "    </tr>\n",
       "  </thead>\n",
       "  <tbody>\n",
       "    <tr>\n",
       "      <th>0</th>\n",
       "      <td>https://www.marketwatch.com/articles/softbank-...</td>\n",
       "      <td>SoftBank CEO to Take Stake in Vision Fund 2</td>\n",
       "      <td>2021-08-10T13:49:00</td>\n",
       "      <td>AMZN</td>\n",
       "      <td>2021-08-10</td>\n",
       "    </tr>\n",
       "    <tr>\n",
       "      <th>1</th>\n",
       "      <td>https://www.marketwatch.com/story/amazon-com-i...</td>\n",
       "      <td>Amazon.com Inc. stock underperforms Tuesday wh...</td>\n",
       "      <td>2021-08-10T16:30:00</td>\n",
       "      <td>AMZN</td>\n",
       "      <td>2021-08-10</td>\n",
       "    </tr>\n",
       "    <tr>\n",
       "      <th>2</th>\n",
       "      <td>https://www.marketwatch.com/articles/stocks-ar...</td>\n",
       "      <td>Stocks Are Literally More Expensive Than Ever</td>\n",
       "      <td>2021-08-10T11:08:00</td>\n",
       "      <td>AMZN</td>\n",
       "      <td>2021-08-10</td>\n",
       "    </tr>\n",
       "    <tr>\n",
       "      <th>3</th>\n",
       "      <td>https://www.marketwatch.com/story/amazon-com-i...</td>\n",
       "      <td>Amazon.com Inc. stock outperforms market despi...</td>\n",
       "      <td>2021-08-09T16:30:00</td>\n",
       "      <td>AMZN</td>\n",
       "      <td>2021-08-09</td>\n",
       "    </tr>\n",
       "    <tr>\n",
       "      <th>4</th>\n",
       "      <td>https://www.marketwatch.com/story/amazons-supp...</td>\n",
       "      <td>Amazon’s supply chain is operating near capaci...</td>\n",
       "      <td>2021-08-06T14:48:00</td>\n",
       "      <td>AMZN</td>\n",
       "      <td>2021-08-06</td>\n",
       "    </tr>\n",
       "  </tbody>\n",
       "</table>\n",
       "</div>"
      ],
      "text/plain": [
       "                                                href  \\\n",
       "0  https://www.marketwatch.com/articles/softbank-...   \n",
       "1  https://www.marketwatch.com/story/amazon-com-i...   \n",
       "2  https://www.marketwatch.com/articles/stocks-ar...   \n",
       "3  https://www.marketwatch.com/story/amazon-com-i...   \n",
       "4  https://www.marketwatch.com/story/amazons-supp...   \n",
       "\n",
       "                                               title                dtime  \\\n",
       "0        SoftBank CEO to Take Stake in Vision Fund 2  2021-08-10T13:49:00   \n",
       "1  Amazon.com Inc. stock underperforms Tuesday wh...  2021-08-10T16:30:00   \n",
       "2      Stocks Are Literally More Expensive Than Ever  2021-08-10T11:08:00   \n",
       "3  Amazon.com Inc. stock outperforms market despi...  2021-08-09T16:30:00   \n",
       "4  Amazon’s supply chain is operating near capaci...  2021-08-06T14:48:00   \n",
       "\n",
       "  ticker        date  \n",
       "0   AMZN  2021-08-10  \n",
       "1   AMZN  2021-08-10  \n",
       "2   AMZN  2021-08-10  \n",
       "3   AMZN  2021-08-09  \n",
       "4   AMZN  2021-08-06  "
      ]
     },
     "execution_count": 5,
     "metadata": {},
     "output_type": "execute_result"
    }
   ],
   "source": [
    "df.head()"
   ]
  },
  {
   "cell_type": "code",
   "execution_count": 6,
   "id": "6530bbd3-426a-42c6-b37c-6081ff07e338",
   "metadata": {},
   "outputs": [
    {
     "name": "stdout",
     "output_type": "stream",
     "text": [
      "<src.model.models.Company object at 0x7f64fe908cd0>\n"
     ]
    }
   ],
   "source": [
    "db_company = main.add_company(name='Amazon', ticker='AMZN')\n",
    "print(db_company)"
   ]
  },
  {
   "cell_type": "code",
   "execution_count": 7,
   "id": "ac9f602e-86ac-4261-b17f-0dfbcda0b631",
   "metadata": {},
   "outputs": [],
   "source": [
    "scraper = article_scraper.ArticleScraper()"
   ]
  },
  {
   "cell_type": "code",
   "execution_count": 8,
   "id": "a5397745-08bd-4b89-8b19-14cec637ab4b",
   "metadata": {},
   "outputs": [
    {
     "name": "stdout",
     "output_type": "stream",
     "text": [
      "Succesfully parsed 0 articles\n",
      "Succesfully parsed 10 articles\n"
     ]
    }
   ],
   "source": [
    "i = 0\n",
    "for row in df.itertuples():\n",
    "    i += 1\n",
    "    if i == 21:\n",
    "        break\n",
    "    data = scraper.parse(row.href)\n",
    "    main.add_article(ticker='AMZN', title=row.title, text=data['article_text'], href=row.href, date=row.date)\n",
    "    sleep(1)\n",
    "    \n",
    "    if row.Index % 10 == 0:\n",
    "        print(f\"Succesfully parsed {row.Index} articles\")"
   ]
  },
  {
   "cell_type": "code",
   "execution_count": null,
   "id": "e0acde76-b566-4b60-9a5c-e0287525b40e",
   "metadata": {},
   "outputs": [],
   "source": []
  }
 ],
 "metadata": {
  "kernelspec": {
   "display_name": "Python 3 (ipykernel)",
   "language": "python",
   "name": "python3"
  },
  "language_info": {
   "codemirror_mode": {
    "name": "ipython",
    "version": 3
   },
   "file_extension": ".py",
   "mimetype": "text/x-python",
   "name": "python",
   "nbconvert_exporter": "python",
   "pygments_lexer": "ipython3",
   "version": "3.9.5"
  }
 },
 "nbformat": 4,
 "nbformat_minor": 5
}
