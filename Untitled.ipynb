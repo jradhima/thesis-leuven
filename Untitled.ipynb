{
 "cells": [
  {
   "cell_type": "code",
   "execution_count": 1,
   "id": "0337ad30-dccb-4f87-92ef-dd7558682057",
   "metadata": {},
   "outputs": [],
   "source": [
    "import src.scrapers.link_scraper as ls\n",
    "import src.scrapers.article_scraper as ars\n",
    "\n",
    "from time import sleep\n",
    "import pandas as pd"
   ]
  },
  {
   "cell_type": "code",
   "execution_count": 2,
   "id": "581ce365-0d38-4ba8-a598-2785e879ffb3",
   "metadata": {},
   "outputs": [],
   "source": [
    "scraper = ars.ArticleScraper()"
   ]
  },
  {
   "cell_type": "code",
   "execution_count": 3,
   "id": "09a900d7-1761-4cd2-ba74-ef97be93a61f",
   "metadata": {},
   "outputs": [
    {
     "data": {
      "text/plain": [
       "{'website': 'marketwatch',\n",
       " 'article_text': 'A confluence of factors have led the rank and file at Big Tech companies to leave what were coveted jobs a decade ago for the potential riches of startups and young public companies, with some participants calling it the “Great Resignation.”\\nIn much the same way that Apple Inc. Google parent Alphabet Inc. Amazon.com Inc. Facebook Inc. and others lured workers from mature and seemingly staid tech giants like International Business Machines Corp. a decade ago, a new generation of upstarts flush with cash from venture capitalists and Wall Street is aiming for their employees. More than a dozen Big Tech defectors recently contacted by MarketWatch said they were wooed by a potential for an initial public offering, the chance to make a splash at a smaller company, and the opportunity to escape the stigma of working at some of tech’s biggest names.\\n“There has been a burst of activity [of people leaving]. If anything, the pandemic delayed decisions,” says Raymond Endres, chief technology officer at Airtable, a low-code app-building platform he joined in mid-May after a decade at Facebook, most recently as vice president of engineering for Facebook Messenger.\\n“It is a good time to leave. There’s a lot of funding, competition and great opportunities,” Endres said.\\nSome employees who recently left Big Tech are calling it the “Great Resignation,” and they blame COVID-19-related job burnout, which could also be a widespread problem — Microsoft Corp. MSFT,\\n+0.06%\\nresearch\\xa0found 41% of the global workforce is weighing leaving their current employer this year. In tech specifically, about one-third of more than 2,800 information-technology professionals said they plan to look for a new job in the next few months, according to a recent Robert Half International survey, while employers posted more than 365,000 IT job openings in June, the highest monthly total since September 2019, according to trade group CompTIA.\\nA confluence of factors have led to “a Big Tech sojourn,” Columbia Business School professor Adam Galinsky told MarketWatch. Workers at major tech employers are considering a jump to smaller companies because of pandemic burnout that has forced many to re-evaluate their jobs and seek more control; resistance to being forced to go to the office on a big campus at least twice a week; and frustrations at working within vast bureaucracies where change is glacial and outside criticism is fierce.\\nOpinion:\\xa0Some tech workers are leaving San Francisco. They won’t be missed\\nRan Mokady left\\xa0Amazon, where he was general manager of an Alexa division, to become chief product officer at Intuition Robotics, a startup working in AI and robotics for older adults.\\n“I was attracted to the mission; getting up in the morning and making people’s lives better,” Mokady told MarketWatch. “The pandemic caused me to re-evaluate things, \\xa0after sitting at home for a year.”\\nA white-hot tech IPO market — there have been 84 offerings so far in the U.S. this year at $50.4 billion, compared with 65 in 2020 for $38.7 billion, according to Dealogic — has would-be employees lining up to make money, and an impact, in short order. In July alone, there were at least 30.\\n“There’s lot of [IPO] money out there,” says Kelly Soderlund, who decamped from software giant SAP in December 2020 to join TripActions, a travel-management company. “Employees have never been in such a position of power. It’s an interesting inflection point within the market.”\\nRead: The 20 best-performing IPOs of the past three years have returned up to 1,477%\\nVC money is also at record highs. This year is on track to be venture’s “best year yet,” according to PitchBook. Through June, $150 billion has been raised among about 7,000 deals, ahead of last year’s record total of $164.3 billion in 12,362 deals. Nearly 200 megadeals at or exceeding $100 million closed in the second quarter, bringing this year’s total to $85.5 billion across 385 such deals.\\nRenchu Song, engineering manager at TigerGraph, left for Facebook last year but quickly returned. “Working at a startup, you have more connection with employees, and things move faster,” Song told MarketWatch. TigerGraph, which has also hired ex-Googlers, plans to increase its workforce this year to about 300 from 90.\\nApple, Amazon, Facebook, and Google representatives did not respond to emails seeking comment. Microsoft referred to its aforementioned survey of the workplace.\\nSometimes, workers come in clusters from another company. Consider Nestlé subsidiary Freshly. Six executives — including its chief commercialization officer, senior vice president of brand and partnerships, and executive innovation chef — have come from Amazon since January.\\n“I thought I would be a lifer at Amazon,” Freshly Chief Commercialization Officer Anna Fabrega\\xa0told MarketWatch, commenting on her 10 years at the e-commerce giant. “But this was a tremendous opportunity. I can have a far greater impact and more influence on the company’s trajectory, which quite frankly was harder at Amazon.”\\nDon’t miss: How long will the Silicon Valley employees who can’t work from home keep getting paid?\\nMany mentioned the chance to have an impact at a smaller company, after years of massive growth at Big Tech companies. In November, Pat McQueen left Salesforce.com Inc. after 17 years to lead operations and sales engineering at Copado, a startup in the developer tools market.\\n“I have a chance to build strategy at Copado, and not implement someone else’s strategy,” McQueen told MarketWatch. “And I think Copado is on a path to being the next unicorn. It’s pretty exciting.”\\n'}"
      ]
     },
     "execution_count": 3,
     "metadata": {},
     "output_type": "execute_result"
    }
   ],
   "source": [
    "url = \"https://www.marketwatch.com/story/big-tech-is-suffering-from-a-great-resignation-of-workers-who-say-its-a-good-time-to-leave-11628267291\"\n",
    "\n",
    "scraper.parse(url)"
   ]
  },
  {
   "cell_type": "code",
   "execution_count": 6,
   "id": "cbc5f502-7b2d-428f-a5bc-da16d2457cd3",
   "metadata": {},
   "outputs": [],
   "source": [
    "import re"
   ]
  },
  {
   "cell_type": "code",
   "execution_count": 4,
   "id": "912d49ed-3ed2-4245-9754-5f6c3a180dc2",
   "metadata": {},
   "outputs": [],
   "source": [
    "from requests_html import HTMLSession\n",
    "\n",
    "s = HTMLSession()"
   ]
  },
  {
   "cell_type": "code",
   "execution_count": 36,
   "id": "c3434225-3418-42e2-96c9-0aea11bdc403",
   "metadata": {},
   "outputs": [],
   "source": [
    "r = s.get(url)"
   ]
  },
  {
   "cell_type": "code",
   "execution_count": 37,
   "id": "45313d3c-f968-4939-a566-ae824da7890e",
   "metadata": {},
   "outputs": [],
   "source": [
    "paragraphs = r.html.find('p')"
   ]
  },
  {
   "cell_type": "code",
   "execution_count": 38,
   "id": "a549ff84-8b5f-433b-af00-1da08bd0f9e1",
   "metadata": {},
   "outputs": [
    {
     "data": {
      "text/plain": [
       "'<p>In much the same way that Apple Inc. \\n        <a data-track-hover=\"QuotePeek\" data-charting-symbol=\"STOCK/US/XNAS/AAPL\" class=\"qt-chip positive\" href=\"/investing/stock/AAPL?mod=MW_story_quote\" target=\"_blank\">AAPL,\\n        <bg-quote field=\"percentchange\" format=\"0,000.00%\" channel=\"/zigman2/quotes/202934861/composite\" class=\"positive\">+0.76%</bg-quote></a><span>,</span>\\n       Google parent Alphabet Inc. \\n        <a data-track-hover=\"QuotePeek\" data-charting-symbol=\"STOCK/US/XNAS/GOOGL\" class=\"qt-chip positive\" href=\"/investing/stock/GOOGL?mod=MW_story_quote\" target=\"_blank\">GOOGL,\\n        <bg-quote field=\"percentchange\" format=\"0,000.00%\" channel=\"/zigman2/quotes/202490156/composite\" class=\"positive\">+1.85%</bg-quote></a>\\n<a data-track-hover=\"QuotePeek\" data-charting-symbol=\"STOCK/US/XNAS/GOOG\" class=\"qt-chip positive\" href=\"/investing/stock/GOOG?mod=MW_story_quote\" target=\"_blank\">GOOG,\\n        <bg-quote field=\"percentchange\" format=\"0,000.00%\" channel=\"/zigman2/quotes/205453964/composite\" class=\"positive\">+1.73%</bg-quote></a><span>,</span>\\n       Amazon.com Inc. \\n        <a data-track-hover=\"QuotePeek\" data-charting-symbol=\"STOCK/US/XNAS/AMZN\" class=\"qt-chip positive\" href=\"/investing/stock/AMZN?mod=MW_story_quote\" target=\"_blank\">AMZN,\\n        <bg-quote field=\"percentchange\" format=\"0,000.00%\" channel=\"/zigman2/quotes/210331248/composite\" class=\"positive\">+0.72%</bg-quote></a><span>,</span>\\n       Facebook Inc. \\n        <a data-track-hover=\"QuotePeek\" data-charting-symbol=\"STOCK/US/XNAS/FB\" class=\"qt-chip positive\" href=\"/investing/stock/FB?mod=MW_story_quote\" target=\"_blank\">FB,\\n        <bg-quote field=\"percentchange\" format=\"0,000.00%\" channel=\"/zigman2/quotes/205064656/composite\" class=\"positive\">+2.15%</bg-quote></a><span>,</span>\\n       and others lured workers from mature and seemingly staid tech giants like International Business Machines Corp. \\n        <a data-track-hover=\"QuotePeek\" data-charting-symbol=\"STOCK/US/XNYS/IBM\" class=\"qt-chip positive\" href=\"/investing/stock/IBM?mod=MW_story_quote\" target=\"_blank\">IBM,\\n        <bg-quote field=\"percentchange\" format=\"0,000.00%\" channel=\"/zigman2/quotes/203856914/composite\" class=\"positive\">+0.34%</bg-quote></a>\\n       a decade ago, a new generation of upstarts flush with cash from venture capitalists and Wall Street is aiming for their employees. More than a dozen Big Tech defectors recently contacted by MarketWatch said they were wooed by a potential for an initial public offering, the chance to make a splash at a smaller company, and the opportunity to escape the stigma of working at some of tech’s biggest names.</p>'"
      ]
     },
     "execution_count": 38,
     "metadata": {},
     "output_type": "execute_result"
    }
   ],
   "source": [
    "paragraphs[1].html"
   ]
  },
  {
   "cell_type": "code",
   "execution_count": 33,
   "id": "059720fe-cf81-4682-b822-c98efdfaf245",
   "metadata": {},
   "outputs": [
    {
     "data": {
      "text/plain": [
       "'<p>In much the same way that Apple Inc. \\n        <a data-track-hover=\"QuotePeek\" data-charting-symbol=\"STOCK/US/XNAS/AAPL\" class=\"qt-chip positive\" href=\"/investing/stock/AAPL?mod=MW_story_quote\" target=\"_blank\">AAPL,\\n        <bg-quote field=\"percentchange\" format=\"0,000.00%\" channel=\"/zigman2/quotes/202934861/composite\" class=\"positive\">+0.74%</bg-quote></a><span>,</span>\\n       Google parent Alphabet Inc. \\n        <a data-track-hover=\"QuotePeek\" data-charting-symbol=\"STOCK/US/XNAS/GOOGL\" class=\"qt-chip positive\" href=\"/investing/stock/GOOGL?mod=MW_story_quote\" target=\"_blank\">GOOGL,\\n        <bg-quote field=\"percentchange\" format=\"0,000.00%\" channel=\"/zigman2/quotes/202490156/composite\" class=\"positive\">+1.89%</bg-quote></a> <a data-track-hover=\"QuotePeek\" data-charting-symbol=\"STOCK/US/XNAS/GOOG\" class=\"qt-chip positive\" href=\"/investing/stock/GOOG?mod=MW_story_quote\" target=\"_blank\">GOOG,\\n        <bg-quote field=\"percentchange\" format=\"0,000.00%\" channel=\"/zigman2/quotes/205453964/composite\" class=\"positive\">+1.74%</bg-quote></a><span>,</span>\\n       Amazon.com Inc. \\n        <a data-track-hover=\"QuotePeek\" data-charting-symbol=\"STOCK/US/XNAS/AMZN\" class=\"qt-chip positive\" href=\"/investing/stock/AMZN?mod=MW_story_quote\" target=\"_blank\">AMZN,\\n        <bg-quote field=\"percentchange\" format=\"0,000.00%\" channel=\"/zigman2/quotes/210331248/composite\" class=\"positive\">+0.72%</bg-quote></a><span>,</span>\\n       Facebook Inc. \\n        <a data-track-hover=\"QuotePeek\" data-charting-symbol=\"STOCK/US/XNAS/FB\" class=\"qt-chip positive\" href=\"/investing/stock/FB?mod=MW_story_quote\" target=\"_blank\">FB,\\n        <bg-quote field=\"percentchange\" format=\"0,000.00%\" channel=\"/zigman2/quotes/205064656/composite\" class=\"positive\">+2.17%</bg-quote></a><span>,</span>\\n       and others lured workers from mature and seemingly staid tech giants like International Business Machines Corp. \\n        <a data-track-hover=\"QuotePeek\" data-charting-symbol=\"STOCK/US/XNYS/IBM\" class=\"qt-chip positive\" href=\"/investing/stock/IBM?mod=MW_story_quote\" target=\"_blank\">IBM,\\n        <bg-quote field=\"percentchange\" format=\"0,000.00%\" channel=\"/zigman2/quotes/203856914/composite\" class=\"positive\">+0.32%</bg-quote></a>\\n       a decade ago, a new generation of upstarts flush with cash from venture capitalists and Wall Street is aiming for their employees. More than a dozen Big Tech defectors recently contacted by MarketWatch said they were wooed by a potential for an initial public offering, the chance to make a splash at a smaller company, and the opportunity to escape the stigma of working at some of tech’s biggest names.</p>'"
      ]
     },
     "execution_count": 33,
     "metadata": {},
     "output_type": "execute_result"
    }
   ],
   "source": [
    "paragraphs[1].html = re.sub(r'a>\\n<a', r'a><a', paragraphs[1].html, flags=re.DOTALL)\n",
    "paragraphs[1].html"
   ]
  },
  {
   "cell_type": "code",
   "execution_count": 34,
   "id": "90074306-014e-42d3-a915-4207fcba5c3d",
   "metadata": {},
   "outputs": [
    {
     "data": {
      "text/plain": [
       "'<p>In much the same way that Apple Inc. \\n        <a data-track-hover=\"QuotePeek\" data-charting-symbol=\"STOCK/US/XNAS/AAPL\" class=\"qt-chip positive\" href=\"/investing/stock/AAPL?mod=MW_story_quote\" target=\"_blank\">AAPL,\\n        <bg-quote field=\"percentchange\" format=\"0,000.00%\" channel=\"/zigman2/quotes/202934861/composite\" class=\"positive\">+0.74%</bg-quote></a> , \\n       Google parent Alphabet Inc. \\n        <a data-track-hover=\"QuotePeek\" data-charting-symbol=\"STOCK/US/XNAS/GOOGL\" class=\"qt-chip positive\" href=\"/investing/stock/GOOGL?mod=MW_story_quote\" target=\"_blank\">GOOGL,\\n        <bg-quote field=\"percentchange\" format=\"0,000.00%\" channel=\"/zigman2/quotes/202490156/composite\" class=\"positive\">+1.89%</bg-quote></a> <a data-track-hover=\"QuotePeek\" data-charting-symbol=\"STOCK/US/XNAS/GOOG\" class=\"qt-chip positive\" href=\"/investing/stock/GOOG?mod=MW_story_quote\" target=\"_blank\">GOOG,\\n        <bg-quote field=\"percentchange\" format=\"0,000.00%\" channel=\"/zigman2/quotes/205453964/composite\" class=\"positive\">+1.74%</bg-quote></a> , \\n       Amazon.com Inc. \\n        <a data-track-hover=\"QuotePeek\" data-charting-symbol=\"STOCK/US/XNAS/AMZN\" class=\"qt-chip positive\" href=\"/investing/stock/AMZN?mod=MW_story_quote\" target=\"_blank\">AMZN,\\n        <bg-quote field=\"percentchange\" format=\"0,000.00%\" channel=\"/zigman2/quotes/210331248/composite\" class=\"positive\">+0.72%</bg-quote></a> , \\n       Facebook Inc. \\n        <a data-track-hover=\"QuotePeek\" data-charting-symbol=\"STOCK/US/XNAS/FB\" class=\"qt-chip positive\" href=\"/investing/stock/FB?mod=MW_story_quote\" target=\"_blank\">FB,\\n        <bg-quote field=\"percentchange\" format=\"0,000.00%\" channel=\"/zigman2/quotes/205064656/composite\" class=\"positive\">+2.17%</bg-quote></a> , \\n       and others lured workers from mature and seemingly staid tech giants like International Business Machines Corp. \\n        <a data-track-hover=\"QuotePeek\" data-charting-symbol=\"STOCK/US/XNYS/IBM\" class=\"qt-chip positive\" href=\"/investing/stock/IBM?mod=MW_story_quote\" target=\"_blank\">IBM,\\n        <bg-quote field=\"percentchange\" format=\"0,000.00%\" channel=\"/zigman2/quotes/203856914/composite\" class=\"positive\">+0.32%</bg-quote></a>\\n       a decade ago, a new generation of upstarts flush with cash from venture capitalists and Wall Street is aiming for their employees. More than a dozen Big Tech defectors recently contacted by MarketWatch said they were wooed by a potential for an initial public offering, the chance to make a splash at a smaller company, and the opportunity to escape the stigma of working at some of tech’s biggest names.</p>'"
      ]
     },
     "execution_count": 34,
     "metadata": {},
     "output_type": "execute_result"
    }
   ],
   "source": [
    "paragraphs[1].html = re.sub(r'</?span>', r'', paragraphs[1].html, flags=re.DOTALL)\n",
    "paragraphs[1].html"
   ]
  },
  {
   "cell_type": "code",
   "execution_count": 35,
   "id": "4e4978f1-813e-434b-a735-479fb5f4d8bf",
   "metadata": {},
   "outputs": [
    {
     "data": {
      "text/plain": [
       "'<p>In much the same way that Apple Inc. a decade ago, a new generation of upstarts flush with cash from venture capitalists and Wall Street is aiming for their employees. More than a dozen Big Tech defectors recently contacted by MarketWatch said they were wooed by a potential for an initial public offering, the chance to make a splash at a smaller company, and the opportunity to escape the stigma of working at some of tech’s biggest names.</p>'"
      ]
     },
     "execution_count": 35,
     "metadata": {},
     "output_type": "execute_result"
    }
   ],
   "source": [
    "paragraphs[1].html = re.sub(r'\\n\\s*<a.*?a>,?\\n\\s*', r'', paragraphs[1].html, flags=re.DOTALL)\n",
    "paragraphs[1].html"
   ]
  },
  {
   "cell_type": "code",
   "execution_count": 29,
   "id": "76d9c6bf-91ad-43b5-8279-6c09fab2bf41",
   "metadata": {},
   "outputs": [
    {
     "data": {
      "text/plain": [
       "'<p>In much the same way that Apple Inc. , \\n       Google parent Alphabet Inc.  , \\n       Amazon.com Inc. , \\n       Facebook Inc. , \\n       and others lured workers from mature and seemingly staid tech giants like International Business Machines Corp. a decade ago, a new generation of upstarts flush with cash from venture capitalists and Wall Street is aiming for their employees. More than a dozen Big Tech defectors recently contacted by MarketWatch said they were wooed by a potential for an initial public offering, the chance to make a splash at a smaller company, and the opportunity to escape the stigma of working at some of tech’s biggest names.</p>'"
      ]
     },
     "execution_count": 29,
     "metadata": {},
     "output_type": "execute_result"
    }
   ],
   "source": [
    "paragraphs[1].html = re.sub(r'\\n?\\s*<a.*?a>,?\\n?\\s*', r' ', paragraphs[1].html, flags=re.DOTALL)\n",
    "paragraphs[1].html"
   ]
  }
 ],
 "metadata": {
  "kernelspec": {
   "display_name": "Python 3 (ipykernel)",
   "language": "python",
   "name": "python3"
  },
  "language_info": {
   "codemirror_mode": {
    "name": "ipython",
    "version": 3
   },
   "file_extension": ".py",
   "mimetype": "text/x-python",
   "name": "python",
   "nbconvert_exporter": "python",
   "pygments_lexer": "ipython3",
   "version": "3.9.5"
  }
 },
 "nbformat": 4,
 "nbformat_minor": 5
}
