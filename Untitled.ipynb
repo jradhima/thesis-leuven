{
 "cells": [
  {
   "cell_type": "code",
   "execution_count": 1,
   "id": "0d3be775-5ff0-4542-8009-62f4be816505",
   "metadata": {},
   "outputs": [],
   "source": [
    "import pandas as pd\n",
    "import sqlite3\n",
    "import re\n",
    "import matplotlib.pyplot as plt\n",
    "\n",
    "import stanza"
   ]
  },
  {
   "cell_type": "code",
   "execution_count": 2,
   "id": "bba32ea1-0350-404a-b54f-334d58d94c24",
   "metadata": {},
   "outputs": [],
   "source": [
    "con = sqlite3.connect('data.db')\n",
    "\n",
    "cur = con.cursor()\n",
    "\n",
    "query = \"\"\"SELECT * FROM article\n",
    "            WHERE text NOT LIKE '%Automated Insights%'\n",
    "            LIMIT 100;\n",
    "        \"\"\"\n",
    "\n",
    "articles = [*cur.execute(query)]\n",
    "\n",
    "con.close()"
   ]
  },
  {
   "cell_type": "code",
   "execution_count": 3,
   "id": "9434b157-d6c4-41b2-be05-2bd9b78b5951",
   "metadata": {},
   "outputs": [],
   "source": [
    "df = pd.DataFrame(articles, columns = ['id', 'title', 'body', 'href', 'date']).set_index('id')\n",
    "\n",
    "df['size'] = df['body'].apply(lambda x: len(x.split()))\n",
    "\n",
    "df['date'] = pd.to_datetime(df['date'], infer_datetime_format=True)\n",
    "\n",
    "mask = (df['size'] > 50) & (df['size'] < 750)\n",
    "df = df[mask]"
   ]
  },
  {
   "cell_type": "code",
   "execution_count": 4,
   "id": "685bd7c3-128c-4467-b4f9-9fcca6ff2776",
   "metadata": {},
   "outputs": [
    {
     "name": "stderr",
     "output_type": "stream",
     "text": [
      "2022-07-24 16:07:52 INFO: Loading these models for language: en (English):\n",
      "========================\n",
      "| Processor | Package  |\n",
      "------------------------\n",
      "| tokenize  | combined |\n",
      "| sentiment | sstplus  |\n",
      "========================\n",
      "\n",
      "2022-07-24 16:07:52 INFO: Use device: cpu\n",
      "2022-07-24 16:07:52 INFO: Loading: tokenize\n",
      "2022-07-24 16:07:52 INFO: Loading: sentiment\n",
      "2022-07-24 16:07:53 INFO: Done loading processors!\n"
     ]
    }
   ],
   "source": [
    "nlp = stanza.Pipeline(lang='en', processors='tokenize,sentiment')"
   ]
  },
  {
   "cell_type": "code",
   "execution_count": 5,
   "id": "47f48db5-2e3f-41d8-bd59-995fc463fd94",
   "metadata": {},
   "outputs": [],
   "source": [
    "def extract_sentiment(text):\n",
    "    doc = nlp(text)\n",
    "    if len(doc.sentences) == 1:\n",
    "        return doc.sentences[0].sentiment - 1\n",
    "    else:\n",
    "        sentiment = 0\n",
    "        for sentence in doc.sentences:\n",
    "            sentiment += sentence.sentiment\n",
    "        return sentiment / len(doc.sentences) - 1"
   ]
  },
  {
   "cell_type": "code",
   "execution_count": 71,
   "id": "fa4dd709-e508-4efd-9e32-dcd03aed07ca",
   "metadata": {},
   "outputs": [
    {
     "name": "stdout",
     "output_type": "stream",
     "text": [
      "A Giant Pension Trimmed Its Apple Stake. Here’s What It Bought.\n",
      "1\n",
      "The second-largest U.S. public pension by assets made substantial investment changes in the second quarter.\n",
      "1\n",
      "The California State Teachers’\n",
      "1\n",
      "Retirement System, Calstrs, substantially raised its investments in (ticker: UBER), Abbvie (ABBV), and Slack Technologies stock (WORK) from April through June.\n",
      "1\n",
      "In contrast to those large purchases, the pension also trimmed its holdings in stock (AAPL).\n",
      "1\n",
      "Calstrs disclosed the trades in a form it filed with the Securities and Exchange Commission.\n",
      "1\n",
      "Calstrs, which managed $226.9 billion in assets as of March 31, declined to comment on the trades.\n",
      "1\n",
      "It said in May that its funded ratio, comparing assets on hand against liabilities, improved to 66% as of June 30, 2019, from 64% the year before.\n",
      "1\n",
      "In other words, the pension had 66 cents for every dollar of benefits to be paid.\n",
      "1\n",
      "Calstrs bought 770,757 more Uber shares in the second quarter, raising its investment to 2.4 million shares of the ride-sharing company.\n",
      "1\n",
      "Uber stock is up 3.7% for the year to date through Friday’s close, including a 0.8% slip so far in the third quarter.\n",
      "1\n",
      "By comparison, the S&P 500 index, a broad measure of the market, is up 5.1% year to date, including a gain of 9.6% so far in the third quarter.\n",
      "0\n",
      "Uber and its rival (LYFT) have said they might suspend operations in California after being ordered by a court in that state to stop classifying their drivers as independent contractors, and to treat them as employees.\n",
      "1\n",
      "On Thursday, the companies received emergency stays from an appeals court to continue operating.\n",
      "1\n",
      "Uber’s latest quarterly report came in short of Wall Street’s expectations.\n",
      "1\n",
      "Calstrs bought 527,027 more AbbVie shares to end June with 3.4 million shares of the biopharmaceutical firm.\n",
      "1\n",
      "Abb\n",
      "1\n",
      "Vie stock sports a 7.1% year-to-date gain, including a 3.4% slip so far in the third quarter.\n",
      "1\n",
      "Abb\n",
      "1\n",
      "Vie’s latest earnings report topped expectations.\n",
      "1\n",
      "The company and its research partners have enrolled the first patients for clinical trials of a Covid-19 treatment.\n",
      "1\n",
      "Calstrs took a position of 665,531 Slack shares.\n",
      "1\n",
      "It hadn’t owned any stock of the work-communications platform at the end of the first quarter.\n",
      "1\n",
      "Slack stock has surged 29.4% so far this year, but has slipped 6.5% since the end of the second quarter.\n",
      "0\n",
      "Slack in July filed a complaint with the European Commission, alleging that (MSFT) has engaged in illegal and anticompetitive competition in marketing its Teams communications tools.\n",
      "1\n",
      "Microsoft denies the claim.\n",
      "1\n",
      "One analyst has noted that Slack could be in for a prolonged battle with Microsoft.\n",
      "1\n",
      "Calstrs sold 178,393\n",
      "1\n",
      "Apple shares in the second quarter, slicing its investment to 8.1 million shares of the iPhone maker.\n",
      "1\n",
      "Apple stock has surged 69.4% year to date, including a 36.4% gain so far in the third quarter.\n",
      "1\n",
      "Apple last week became the first public U.S. company to reach a $2 trillion market value, though one analyst has argued that Apple is underspending on research and development compared with its peers.\n",
      "1\n",
      "Apple recently reported strong earnings and declared a four-for-one stock split.\n",
      "1\n",
      "Shares set a record intraday price Friday.\n",
      "1\n",
      "Inside Scoop is a regular Barron’s feature covering stock transactions by corporate executives and board members—so-called insiders—as well as large shareholders, politicians, and other prominent figures.\n",
      "1\n",
      "Due to their insider status, these investors are required to disclose stock trades with the Securities and Exchange Commission or other regulatory groups.\n",
      "1\n",
      "Write to Ed Lin at edward.lin@barrons.com and follow @BarronsEdLin.\n"
     ]
    },
    {
     "data": {
      "text/plain": [
       "-0.05714285714285716"
      ]
     },
     "execution_count": 71,
     "metadata": {},
     "output_type": "execute_result"
    }
   ],
   "source": [
    "sample = df.sample()\n",
    "body = sample['body'].item()\n",
    "title = sample['title'].item()\n",
    "print(title)\n",
    "doc = nlp(body)\n",
    "for sent in doc.sentences:\n",
    "    print(sent.sentiment)\n",
    "    print(sent.text)\n",
    "extract_sentiment(body)"
   ]
  }
 ],
 "metadata": {
  "kernelspec": {
   "display_name": "Python 3 (ipykernel)",
   "language": "python",
   "name": "python3"
  },
  "language_info": {
   "codemirror_mode": {
    "name": "ipython",
    "version": 3
   },
   "file_extension": ".py",
   "mimetype": "text/x-python",
   "name": "python",
   "nbconvert_exporter": "python",
   "pygments_lexer": "ipython3",
   "version": "3.9.5"
  }
 },
 "nbformat": 4,
 "nbformat_minor": 5
}
