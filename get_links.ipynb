{
 "cells": [
  {
   "cell_type": "code",
   "execution_count": null,
   "id": "d5fa4036-50bf-42f9-bdec-3ea640b89c3d",
   "metadata": {},
   "outputs": [],
   "source": [
    "import src.scrapers.link_scraper as ls\n",
    "import src.scrapers.article_scraper as ars\n",
    "\n",
    "from time import sleep\n",
    "import pandas as pd"
   ]
  },
  {
   "cell_type": "code",
   "execution_count": null,
   "id": "07cf9caf-9982-455f-9274-85ebb6a27b04",
   "metadata": {},
   "outputs": [],
   "source": [
    "tickers = pd.read_json('data/snp500.json')\n",
    "tickers.head()"
   ]
  },
  {
   "cell_type": "code",
   "execution_count": null,
   "id": "fd91c948-a5e2-4524-9904-121a9bee5c50",
   "metadata": {},
   "outputs": [],
   "source": [
    "headers = {\"user-agent\": \"Mozilla/5.0 (Windows NT 10.0; Win64; x64; rv:90.0) Gecko/20100101 Firefox/90.0\"}\n",
    "\n",
    "for ticker in tickers.Symbol:\n",
    "    link_scraper = ls.LinkScraper(ticker=ticker)\n",
    "    link_scraper.fetch_links(dt_sleep=1, headers=headers)\n",
    "    link_scraper.to_json()"
   ]
  },
  {
   "cell_type": "code",
   "execution_count": null,
   "id": "1d86a0d0-f6bb-4480-bc60-ef51d22fba4c",
   "metadata": {},
   "outputs": [],
   "source": []
  }
 ],
 "metadata": {
  "kernelspec": {
   "display_name": "Python 3 (ipykernel)",
   "language": "python",
   "name": "python3"
  },
  "language_info": {
   "codemirror_mode": {
    "name": "ipython",
    "version": 3
   },
   "file_extension": ".py",
   "mimetype": "text/x-python",
   "name": "python",
   "nbconvert_exporter": "python",
   "pygments_lexer": "ipython3",
   "version": "3.9.5"
  }
 },
 "nbformat": 4,
 "nbformat_minor": 5
}
