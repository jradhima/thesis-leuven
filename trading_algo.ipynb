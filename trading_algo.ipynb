{
 "cells": [
  {
   "cell_type": "code",
   "execution_count": 1,
   "id": "1be828a5-0219-4230-b9b9-21cb24cdfbeb",
   "metadata": {},
   "outputs": [],
   "source": [
    "import pandas as pd\n",
    "import matplotlib.pyplot as plt\n",
    "import seaborn as sns\n",
    "sns.set_theme()\n",
    "\n",
    "import ast"
   ]
  },
  {
   "cell_type": "code",
   "execution_count": 2,
   "id": "53759796-bf6a-471b-974c-ce2832925e1c",
   "metadata": {},
   "outputs": [],
   "source": [
    "prices = pd.read_json('stock_prices.json')\n",
    "sentiments = pd.read_json('aligned_sentiments.json')\n",
    "\n",
    "indices = []\n",
    "\n",
    "for item in prices.columns.values:\n",
    "    indices.append(ast.literal_eval(item))\n",
    "    \n",
    "prices.columns = pd.MultiIndex.from_tuples(indices)\n",
    "\n",
    "indices = []\n",
    "\n",
    "for item in sentiments.columns.values:\n",
    "    indices.append(ast.literal_eval(item))\n",
    "    \n",
    "sentiments.columns = pd.MultiIndex.from_tuples(indices)"
   ]
  },
  {
   "cell_type": "code",
   "execution_count": 11,
   "id": "462cc83a-9e23-4097-ab91-88040f1519c5",
   "metadata": {},
   "outputs": [
    {
     "data": {
      "text/html": [
       "<div>\n",
       "<style scoped>\n",
       "    .dataframe tbody tr th:only-of-type {\n",
       "        vertical-align: middle;\n",
       "    }\n",
       "\n",
       "    .dataframe tbody tr th {\n",
       "        vertical-align: top;\n",
       "    }\n",
       "\n",
       "    .dataframe thead th {\n",
       "        text-align: right;\n",
       "    }\n",
       "</style>\n",
       "<table border=\"1\" class=\"dataframe\">\n",
       "  <thead>\n",
       "    <tr style=\"text-align: right;\">\n",
       "      <th></th>\n",
       "      <th>Adj Close</th>\n",
       "      <th>Close</th>\n",
       "      <th>High</th>\n",
       "      <th>Low</th>\n",
       "      <th>Open</th>\n",
       "      <th>Volume</th>\n",
       "    </tr>\n",
       "  </thead>\n",
       "  <tbody>\n",
       "    <tr>\n",
       "      <th>2018-01-02</th>\n",
       "      <td>201.070007</td>\n",
       "      <td>201.070007</td>\n",
       "      <td>201.649994</td>\n",
       "      <td>195.419998</td>\n",
       "      <td>196.100006</td>\n",
       "      <td>10966900</td>\n",
       "    </tr>\n",
       "    <tr>\n",
       "      <th>2018-01-03</th>\n",
       "      <td>205.050003</td>\n",
       "      <td>205.050003</td>\n",
       "      <td>206.210007</td>\n",
       "      <td>201.500000</td>\n",
       "      <td>202.050003</td>\n",
       "      <td>8591400</td>\n",
       "    </tr>\n",
       "    <tr>\n",
       "      <th>2018-01-04</th>\n",
       "      <td>205.630005</td>\n",
       "      <td>205.630005</td>\n",
       "      <td>207.050003</td>\n",
       "      <td>204.000000</td>\n",
       "      <td>206.199997</td>\n",
       "      <td>6029600</td>\n",
       "    </tr>\n",
       "    <tr>\n",
       "      <th>2018-01-05</th>\n",
       "      <td>209.990005</td>\n",
       "      <td>209.990005</td>\n",
       "      <td>210.020004</td>\n",
       "      <td>205.589996</td>\n",
       "      <td>207.250000</td>\n",
       "      <td>7033200</td>\n",
       "    </tr>\n",
       "    <tr>\n",
       "      <th>2018-01-08</th>\n",
       "      <td>212.050003</td>\n",
       "      <td>212.050003</td>\n",
       "      <td>212.500000</td>\n",
       "      <td>208.440002</td>\n",
       "      <td>210.020004</td>\n",
       "      <td>5580200</td>\n",
       "    </tr>\n",
       "    <tr>\n",
       "      <th>...</th>\n",
       "      <td>...</td>\n",
       "      <td>...</td>\n",
       "      <td>...</td>\n",
       "      <td>...</td>\n",
       "      <td>...</td>\n",
       "      <td>...</td>\n",
       "    </tr>\n",
       "    <tr>\n",
       "      <th>2021-08-03</th>\n",
       "      <td>510.820007</td>\n",
       "      <td>510.820007</td>\n",
       "      <td>515.630005</td>\n",
       "      <td>505.369995</td>\n",
       "      <td>514.390015</td>\n",
       "      <td>2579400</td>\n",
       "    </tr>\n",
       "    <tr>\n",
       "      <th>2021-08-04</th>\n",
       "      <td>517.349976</td>\n",
       "      <td>517.349976</td>\n",
       "      <td>517.979980</td>\n",
       "      <td>510.369995</td>\n",
       "      <td>513.000000</td>\n",
       "      <td>2039400</td>\n",
       "    </tr>\n",
       "    <tr>\n",
       "      <th>2021-08-05</th>\n",
       "      <td>524.890015</td>\n",
       "      <td>524.890015</td>\n",
       "      <td>525.409973</td>\n",
       "      <td>514.020020</td>\n",
       "      <td>517.130005</td>\n",
       "      <td>2556700</td>\n",
       "    </tr>\n",
       "    <tr>\n",
       "      <th>2021-08-06</th>\n",
       "      <td>520.549988</td>\n",
       "      <td>520.549988</td>\n",
       "      <td>526.840027</td>\n",
       "      <td>519.390015</td>\n",
       "      <td>524.000000</td>\n",
       "      <td>1919400</td>\n",
       "    </tr>\n",
       "    <tr>\n",
       "      <th>2021-08-09</th>\n",
       "      <td>519.969971</td>\n",
       "      <td>519.969971</td>\n",
       "      <td>522.669983</td>\n",
       "      <td>517.989990</td>\n",
       "      <td>521.150024</td>\n",
       "      <td>1367800</td>\n",
       "    </tr>\n",
       "  </tbody>\n",
       "</table>\n",
       "<p>907 rows × 6 columns</p>\n",
       "</div>"
      ],
      "text/plain": [
       "             Adj Close       Close        High         Low        Open  \\\n",
       "2018-01-02  201.070007  201.070007  201.649994  195.419998  196.100006   \n",
       "2018-01-03  205.050003  205.050003  206.210007  201.500000  202.050003   \n",
       "2018-01-04  205.630005  205.630005  207.050003  204.000000  206.199997   \n",
       "2018-01-05  209.990005  209.990005  210.020004  205.589996  207.250000   \n",
       "2018-01-08  212.050003  212.050003  212.500000  208.440002  210.020004   \n",
       "...                ...         ...         ...         ...         ...   \n",
       "2021-08-03  510.820007  510.820007  515.630005  505.369995  514.390015   \n",
       "2021-08-04  517.349976  517.349976  517.979980  510.369995  513.000000   \n",
       "2021-08-05  524.890015  524.890015  525.409973  514.020020  517.130005   \n",
       "2021-08-06  520.549988  520.549988  526.840027  519.390015  524.000000   \n",
       "2021-08-09  519.969971  519.969971  522.669983  517.989990  521.150024   \n",
       "\n",
       "              Volume  \n",
       "2018-01-02  10966900  \n",
       "2018-01-03   8591400  \n",
       "2018-01-04   6029600  \n",
       "2018-01-05   7033200  \n",
       "2018-01-08   5580200  \n",
       "...              ...  \n",
       "2021-08-03   2579400  \n",
       "2021-08-04   2039400  \n",
       "2021-08-05   2556700  \n",
       "2021-08-06   1919400  \n",
       "2021-08-09   1367800  \n",
       "\n",
       "[907 rows x 6 columns]"
      ]
     },
     "execution_count": 11,
     "metadata": {},
     "output_type": "execute_result"
    }
   ],
   "source": [
    "prices.swaplevel(axis=1)['NFLX']"
   ]
  },
  {
   "cell_type": "code",
   "execution_count": 13,
   "id": "2cf6b539-710e-44a0-ae78-82218647b59b",
   "metadata": {},
   "outputs": [
    {
     "name": "stderr",
     "output_type": "stream",
     "text": [
      "/home/jradhima/miniconda3/envs/thesis/lib/python3.9/site-packages/pandas/core/frame.py:4308: SettingWithCopyWarning: \n",
      "A value is trying to be set on a copy of a slice from a DataFrame\n",
      "\n",
      "See the caveats in the documentation: https://pandas.pydata.org/pandas-docs/stable/user_guide/indexing.html#returning-a-view-versus-a-copy\n",
      "  return super().drop(\n"
     ]
    }
   ],
   "source": [
    "prices = prices['Adj Close']\n",
    "bert_body = sentiments['bert_body']\n",
    "missing_prices = list(prices.isna().sum()[prices.isna().sum() != 0].index)\n",
    "missing_prices.remove('OGN')\n",
    "\n",
    "\n",
    "prices.drop(columns=missing_prices, inplace=True)\n",
    "bert_body.drop(columns=missing_prices, inplace=True)"
   ]
  },
  {
   "cell_type": "code",
   "execution_count": 14,
   "id": "2ed38cda-2d38-4a34-8114-82273a9f74e0",
   "metadata": {},
   "outputs": [
    {
     "data": {
      "text/plain": [
       "set()"
      ]
     },
     "execution_count": 14,
     "metadata": {},
     "output_type": "execute_result"
    }
   ],
   "source": [
    "set(bert_body.columns).intersection(set(missing_prices))"
   ]
  },
  {
   "cell_type": "code",
   "execution_count": 15,
   "id": "80c781aa-f114-4823-969d-e44340eaf587",
   "metadata": {},
   "outputs": [
    {
     "data": {
      "text/plain": [
       "set()"
      ]
     },
     "execution_count": 15,
     "metadata": {},
     "output_type": "execute_result"
    }
   ],
   "source": [
    "set(prices.columns).intersection(set(missing_prices))"
   ]
  },
  {
   "cell_type": "code",
   "execution_count": 16,
   "id": "b921bc49-9336-4d73-92f3-865e5e4ac78c",
   "metadata": {},
   "outputs": [],
   "source": [
    "largest_n = bert_body.apply(lambda x: pd.Series(x.nlargest(20).index), axis=1)\n",
    "smallest_n = bert_body.apply(lambda x: pd.Series(x.nsmallest(20).index), axis=1)"
   ]
  },
  {
   "cell_type": "code",
   "execution_count": 17,
   "id": "2a2470f3-f39b-4f97-a969-c6c63d5aeed1",
   "metadata": {},
   "outputs": [
    {
     "name": "stdout",
     "output_type": "stream",
     "text": [
      "0\n",
      "100\n",
      "200\n",
      "300\n",
      "400\n",
      "500\n",
      "600\n",
      "700\n"
     ]
    },
    {
     "data": {
      "text/plain": [
       "30.676219049559176"
      ]
     },
     "execution_count": 17,
     "metadata": {},
     "output_type": "execute_result"
    }
   ],
   "source": [
    "days = len(largest_n.index)\n",
    "holding_days = 1\n",
    "n = 1\n",
    "capital = 1000000\n",
    "positions = {}\n",
    "final_capital = 0\n",
    "long_amounts = []\n",
    "short_amounts = []\n",
    "\n",
    "for day in range(days):\n",
    "    if day % 100 == 0:\n",
    "        print(day)\n",
    "    if day < holding_days:\n",
    "        best = largest_n.iloc[day, :n].values\n",
    "        worst = smallest_n.iloc[day, :n].values\n",
    "        amount = capital / (2 * holding_days * n)\n",
    "        long_amounts.append(amount)\n",
    "        short_amounts.append(amount)\n",
    "        long_positions = [(company, amount / prices.iloc[day][company]) for company in best]\n",
    "        short_positions = [(company, amount / prices.iloc[day + holding_days][company]) for company in worst]\n",
    "        positions[day] = {'long': long_positions, 'short': short_positions}\n",
    "    else:\n",
    "        days_long = sum([shares * prices.iloc[day][company] \n",
    "                          for company, shares in positions[day - holding_days]['long']])\n",
    "        days_short = sum([shares * prices.iloc[day - holding_days][company] \n",
    "                          for company, shares in positions[day - holding_days]['short']])\n",
    "        long_amounts.append(days_long/n)\n",
    "        short_amounts.append(days_short/n)\n",
    "        if days - day <= holding_days:\n",
    "            final_capital += days_long + days_short\n",
    "        else:\n",
    "            best = largest_n.iloc[day, :n].values\n",
    "            worst = smallest_n.iloc[day, :n].values\n",
    "            amount = (days_long + days_short) / (2 * n)\n",
    "            long_positions = [(company, amount / prices.iloc[day][company]) for company in best]\n",
    "            short_positions = [(company, amount / prices.iloc[day + holding_days][company]) for company in worst]\n",
    "            positions[day] = {'long': long_positions, 'short': short_positions}\n",
    "final_capital / capital"
   ]
  },
  {
   "cell_type": "code",
   "execution_count": 18,
   "id": "6058699f-c9c8-4d9b-bbb4-24c307662ed9",
   "metadata": {},
   "outputs": [
    {
     "data": {
      "text/plain": [
       "[<matplotlib.lines.Line2D at 0x7f186fb837f0>]"
      ]
     },
     "execution_count": 18,
     "metadata": {},
     "output_type": "execute_result"
    },
    {
     "data": {
      "image/png": "[encoded data removed]",
      "text/plain": [
       "<Figure size 432x288 with 1 Axes>"
      ]
     },
     "metadata": {},
     "output_type": "display_data"
    }
   ],
   "source": [
    "plt.plot(long_amounts)"
   ]
  },
  {
   "cell_type": "code",
   "execution_count": 19,
   "id": "cc1da946-02c2-494e-a354-e77291d67aeb",
   "metadata": {},
   "outputs": [
    {
     "data": {
      "text/plain": [
       "<AxesSubplot:>"
      ]
     },
     "execution_count": 19,
     "metadata": {},
     "output_type": "execute_result"
    },
    {
     "data": {
      "image/png": "[encoded data removed]",
      "text/plain": [
       "<Figure size 432x288 with 1 Axes>"
      ]
     },
     "metadata": {},
     "output_type": "display_data"
    }
   ],
   "source": [
    "prices['AAPL'].plot()"
   ]
  },
  {
   "cell_type": "code",
   "execution_count": 22,
   "id": "9ea9e19e-9492-4540-b641-2efb2835f826",
   "metadata": {},
   "outputs": [],
   "source": [
    "def trading_algorithm(days, holding_days, n_shares):\n",
    "    positions = {}\n",
    "    capital = 1000000\n",
    "    final_capital = 0\n",
    "    long_amounts = []\n",
    "    short_amounts = []\n",
    "    \n",
    "    for day in range(days):\n",
    "        if day % 100 == 0:\n",
    "            print('Day ',day)\n",
    "        if day < holding_days:\n",
    "            best = largest_n.iloc[day, :n_shares].values\n",
    "            worst = smallest_n.iloc[day, :n_shares].values\n",
    "            amount = capital / (2 * holding_days * n_shares)\n",
    "            long_amounts.append(amount)\n",
    "            short_amounts.append(amount)\n",
    "            long_positions = [(company, amount / prices.iloc[day][company]) for company in best]\n",
    "            short_positions = [(company, amount / prices.iloc[day + holding_days][company]) for company in worst]\n",
    "            positions[day] = {'long': long_positions, 'short': short_positions}\n",
    "        else:\n",
    "            days_long = sum([shares * prices.iloc[day][company] \n",
    "                              for company, shares in positions[day - holding_days]['long']])\n",
    "            days_short = sum([shares * prices.iloc[day - holding_days][company] \n",
    "                              for company, shares in positions[day - holding_days]['short']])\n",
    "            long_amounts.append(days_long / n_shares)\n",
    "            short_amounts.append(days_short / n_shares)\n",
    "            if days - day <= holding_days:\n",
    "                final_capital += days_long + days_short\n",
    "            else:\n",
    "                best = largest_n.iloc[day, :n_shares].values\n",
    "                worst = smallest_n.iloc[day, :n_shares].values\n",
    "                amount = (days_long + days_short) / (2 * n_shares)\n",
    "                long_positions = [(company, amount / prices.iloc[day][company]) for company in best]\n",
    "                short_positions = [(company, amount / prices.iloc[day + holding_days][company]) for company in worst]\n",
    "                positions[day] = {'long': long_positions, 'short': short_positions}\n",
    "    return final_capital/capital, positions, long_amounts, short_amounts"
   ]
  },
  {
   "cell_type": "code",
   "execution_count": 34,
   "id": "55438676-c9ea-4d58-b8c2-2ca807f687e0",
   "metadata": {},
   "outputs": [
    {
     "name": "stdout",
     "output_type": "stream",
     "text": [
      "Day  0\n"
     ]
    },
    {
     "data": {
      "text/plain": [
       "1.9489847416305763"
      ]
     },
     "execution_count": 34,
     "metadata": {},
     "output_type": "execute_result"
    }
   ],
   "source": [
    "#len(largest_n.index)\n",
    "ratio, positions, long, short = trading_algorithm(days=100, holding_days=1, n_shares=1)\n",
    "ratio"
   ]
  },
  {
   "cell_type": "code",
   "execution_count": null,
   "id": "4a9f2573-41d3-42dc-9c99-094b44504ad7",
   "metadata": {},
   "outputs": [],
   "source": [
    "#check why return skyrockets for 1 holding day"
   ]
  }
 ],
 "metadata": {
  "kernelspec": {
   "display_name": "Python 3 (ipykernel)",
   "language": "python",
   "name": "python3"
  },
  "language_info": {
   "codemirror_mode": {
    "name": "ipython",
    "version": 3
   },
   "file_extension": ".py",
   "mimetype": "text/x-python",
   "name": "python",
   "nbconvert_exporter": "python",
   "pygments_lexer": "ipython3",
   "version": "3.9.5"
  }
 },
 "nbformat": 4,
 "nbformat_minor": 5
}
